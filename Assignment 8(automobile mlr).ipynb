{
 "cells": [
  {
   "cell_type": "code",
   "execution_count": 424,
   "id": "025863d0",
   "metadata": {},
   "outputs": [
    {
     "data": {
      "text/html": [
       "<div>\n",
       "<style scoped>\n",
       "    .dataframe tbody tr th:only-of-type {\n",
       "        vertical-align: middle;\n",
       "    }\n",
       "\n",
       "    .dataframe tbody tr th {\n",
       "        vertical-align: top;\n",
       "    }\n",
       "\n",
       "    .dataframe thead th {\n",
       "        text-align: right;\n",
       "    }\n",
       "</style>\n",
       "<table border=\"1\" class=\"dataframe\">\n",
       "  <thead>\n",
       "    <tr style=\"text-align: right;\">\n",
       "      <th></th>\n",
       "      <th>sym</th>\n",
       "      <th>nor_los</th>\n",
       "      <th>make</th>\n",
       "      <th>fuel_type</th>\n",
       "      <th>asp</th>\n",
       "      <th>no_door</th>\n",
       "      <th>body_style</th>\n",
       "      <th>d_wheels</th>\n",
       "      <th>engine_loc</th>\n",
       "      <th>wheel_base</th>\n",
       "      <th>...</th>\n",
       "      <th>engine_size</th>\n",
       "      <th>fuel_system</th>\n",
       "      <th>bore</th>\n",
       "      <th>stroke</th>\n",
       "      <th>com_ratio</th>\n",
       "      <th>hpower</th>\n",
       "      <th>peak_rpm</th>\n",
       "      <th>city_mpg</th>\n",
       "      <th>hw_mpg</th>\n",
       "      <th>price</th>\n",
       "    </tr>\n",
       "  </thead>\n",
       "  <tbody>\n",
       "    <tr>\n",
       "      <th>0</th>\n",
       "      <td>3</td>\n",
       "      <td>NaN</td>\n",
       "      <td>alfa-romero</td>\n",
       "      <td>gas</td>\n",
       "      <td>std</td>\n",
       "      <td>two</td>\n",
       "      <td>convertible</td>\n",
       "      <td>rwd</td>\n",
       "      <td>front</td>\n",
       "      <td>88.6</td>\n",
       "      <td>...</td>\n",
       "      <td>130</td>\n",
       "      <td>mpfi</td>\n",
       "      <td>3.47</td>\n",
       "      <td>2.68</td>\n",
       "      <td>9.0</td>\n",
       "      <td>111.0</td>\n",
       "      <td>5000.0</td>\n",
       "      <td>21</td>\n",
       "      <td>27</td>\n",
       "      <td>13495.0</td>\n",
       "    </tr>\n",
       "    <tr>\n",
       "      <th>1</th>\n",
       "      <td>3</td>\n",
       "      <td>NaN</td>\n",
       "      <td>alfa-romero</td>\n",
       "      <td>gas</td>\n",
       "      <td>std</td>\n",
       "      <td>two</td>\n",
       "      <td>convertible</td>\n",
       "      <td>rwd</td>\n",
       "      <td>front</td>\n",
       "      <td>88.6</td>\n",
       "      <td>...</td>\n",
       "      <td>130</td>\n",
       "      <td>mpfi</td>\n",
       "      <td>3.47</td>\n",
       "      <td>2.68</td>\n",
       "      <td>9.0</td>\n",
       "      <td>111.0</td>\n",
       "      <td>5000.0</td>\n",
       "      <td>21</td>\n",
       "      <td>27</td>\n",
       "      <td>16500.0</td>\n",
       "    </tr>\n",
       "    <tr>\n",
       "      <th>2</th>\n",
       "      <td>1</td>\n",
       "      <td>NaN</td>\n",
       "      <td>alfa-romero</td>\n",
       "      <td>gas</td>\n",
       "      <td>std</td>\n",
       "      <td>two</td>\n",
       "      <td>hatchback</td>\n",
       "      <td>rwd</td>\n",
       "      <td>front</td>\n",
       "      <td>94.5</td>\n",
       "      <td>...</td>\n",
       "      <td>152</td>\n",
       "      <td>mpfi</td>\n",
       "      <td>2.68</td>\n",
       "      <td>3.47</td>\n",
       "      <td>9.0</td>\n",
       "      <td>154.0</td>\n",
       "      <td>5000.0</td>\n",
       "      <td>19</td>\n",
       "      <td>26</td>\n",
       "      <td>16500.0</td>\n",
       "    </tr>\n",
       "    <tr>\n",
       "      <th>3</th>\n",
       "      <td>2</td>\n",
       "      <td>164.0</td>\n",
       "      <td>audi</td>\n",
       "      <td>gas</td>\n",
       "      <td>std</td>\n",
       "      <td>four</td>\n",
       "      <td>sedan</td>\n",
       "      <td>fwd</td>\n",
       "      <td>front</td>\n",
       "      <td>99.8</td>\n",
       "      <td>...</td>\n",
       "      <td>109</td>\n",
       "      <td>mpfi</td>\n",
       "      <td>3.19</td>\n",
       "      <td>3.40</td>\n",
       "      <td>10.0</td>\n",
       "      <td>102.0</td>\n",
       "      <td>5500.0</td>\n",
       "      <td>24</td>\n",
       "      <td>30</td>\n",
       "      <td>13950.0</td>\n",
       "    </tr>\n",
       "    <tr>\n",
       "      <th>4</th>\n",
       "      <td>2</td>\n",
       "      <td>164.0</td>\n",
       "      <td>audi</td>\n",
       "      <td>gas</td>\n",
       "      <td>std</td>\n",
       "      <td>four</td>\n",
       "      <td>sedan</td>\n",
       "      <td>4wd</td>\n",
       "      <td>front</td>\n",
       "      <td>99.4</td>\n",
       "      <td>...</td>\n",
       "      <td>136</td>\n",
       "      <td>mpfi</td>\n",
       "      <td>3.19</td>\n",
       "      <td>3.40</td>\n",
       "      <td>8.0</td>\n",
       "      <td>115.0</td>\n",
       "      <td>5500.0</td>\n",
       "      <td>18</td>\n",
       "      <td>22</td>\n",
       "      <td>17450.0</td>\n",
       "    </tr>\n",
       "  </tbody>\n",
       "</table>\n",
       "<p>5 rows × 26 columns</p>\n",
       "</div>"
      ],
      "text/plain": [
       "   sym  nor_los         make fuel_type  asp no_door   body_style d_wheels  \\\n",
       "0    3      NaN  alfa-romero       gas  std     two  convertible      rwd   \n",
       "1    3      NaN  alfa-romero       gas  std     two  convertible      rwd   \n",
       "2    1      NaN  alfa-romero       gas  std     two    hatchback      rwd   \n",
       "3    2    164.0         audi       gas  std    four        sedan      fwd   \n",
       "4    2    164.0         audi       gas  std    four        sedan      4wd   \n",
       "\n",
       "  engine_loc  wheel_base  ...  engine_size  fuel_system  bore  stroke  \\\n",
       "0      front        88.6  ...          130         mpfi  3.47    2.68   \n",
       "1      front        88.6  ...          130         mpfi  3.47    2.68   \n",
       "2      front        94.5  ...          152         mpfi  2.68    3.47   \n",
       "3      front        99.8  ...          109         mpfi  3.19    3.40   \n",
       "4      front        99.4  ...          136         mpfi  3.19    3.40   \n",
       "\n",
       "  com_ratio hpower  peak_rpm city_mpg  hw_mpg    price  \n",
       "0       9.0  111.0    5000.0       21      27  13495.0  \n",
       "1       9.0  111.0    5000.0       21      27  16500.0  \n",
       "2       9.0  154.0    5000.0       19      26  16500.0  \n",
       "3      10.0  102.0    5500.0       24      30  13950.0  \n",
       "4       8.0  115.0    5500.0       18      22  17450.0  \n",
       "\n",
       "[5 rows x 26 columns]"
      ]
     },
     "execution_count": 424,
     "metadata": {},
     "output_type": "execute_result"
    }
   ],
   "source": [
    "import pandas as pd\n",
    "import numpy as np\n",
    "import matplotlib.pyplot as plt\n",
    "from scipy import stats\n",
    "import seaborn as sns\n",
    "import statsmodels.api as sm\n",
    "columns=[\"sym\",\"nor_los\",\"make\",\"fuel_type\",\"asp\",\"no_door\",\"body_style\",\"d_wheels\",\"engine_loc\",\"wheel_base\",\"length\",\"width\",\"height\",\"curb_weight\",\"engine_type\",\"no_cyl\",\"engine_size\",\"fuel_system\",\"bore\",\"stroke\",\"com_ratio\",\"hpower\",\"peak_rpm\",\"city_mpg\",\"hw_mpg\",\"price\"]\n",
    "data=pd.read_csv(\"https://archive.ics.uci.edu/ml/machine-learning-databases/autos/imports-85.data\",names=columns,na_values=\"?\")\n",
    "data.head()"
   ]
  },
  {
   "cell_type": "code",
   "execution_count": 425,
   "id": "7809ab54",
   "metadata": {},
   "outputs": [
    {
     "data": {
      "text/html": [
       "<div>\n",
       "<style scoped>\n",
       "    .dataframe tbody tr th:only-of-type {\n",
       "        vertical-align: middle;\n",
       "    }\n",
       "\n",
       "    .dataframe tbody tr th {\n",
       "        vertical-align: top;\n",
       "    }\n",
       "\n",
       "    .dataframe thead th {\n",
       "        text-align: right;\n",
       "    }\n",
       "</style>\n",
       "<table border=\"1\" class=\"dataframe\">\n",
       "  <thead>\n",
       "    <tr style=\"text-align: right;\">\n",
       "      <th></th>\n",
       "      <th>sym</th>\n",
       "      <th>nor_los</th>\n",
       "      <th>wheel_base</th>\n",
       "      <th>length</th>\n",
       "      <th>width</th>\n",
       "      <th>height</th>\n",
       "      <th>curb_weight</th>\n",
       "      <th>engine_size</th>\n",
       "      <th>bore</th>\n",
       "      <th>stroke</th>\n",
       "      <th>com_ratio</th>\n",
       "      <th>hpower</th>\n",
       "      <th>peak_rpm</th>\n",
       "      <th>city_mpg</th>\n",
       "      <th>hw_mpg</th>\n",
       "      <th>price</th>\n",
       "    </tr>\n",
       "  </thead>\n",
       "  <tbody>\n",
       "    <tr>\n",
       "      <th>count</th>\n",
       "      <td>205.000000</td>\n",
       "      <td>164.000000</td>\n",
       "      <td>205.000000</td>\n",
       "      <td>205.000000</td>\n",
       "      <td>205.000000</td>\n",
       "      <td>205.000000</td>\n",
       "      <td>205.000000</td>\n",
       "      <td>205.000000</td>\n",
       "      <td>201.000000</td>\n",
       "      <td>201.000000</td>\n",
       "      <td>205.000000</td>\n",
       "      <td>203.000000</td>\n",
       "      <td>203.000000</td>\n",
       "      <td>205.000000</td>\n",
       "      <td>205.000000</td>\n",
       "      <td>201.000000</td>\n",
       "    </tr>\n",
       "    <tr>\n",
       "      <th>mean</th>\n",
       "      <td>0.834146</td>\n",
       "      <td>122.000000</td>\n",
       "      <td>98.756585</td>\n",
       "      <td>174.049268</td>\n",
       "      <td>65.907805</td>\n",
       "      <td>53.724878</td>\n",
       "      <td>2555.565854</td>\n",
       "      <td>126.907317</td>\n",
       "      <td>3.329751</td>\n",
       "      <td>3.255423</td>\n",
       "      <td>10.142537</td>\n",
       "      <td>104.256158</td>\n",
       "      <td>5125.369458</td>\n",
       "      <td>25.219512</td>\n",
       "      <td>30.751220</td>\n",
       "      <td>13207.129353</td>\n",
       "    </tr>\n",
       "    <tr>\n",
       "      <th>std</th>\n",
       "      <td>1.245307</td>\n",
       "      <td>35.442168</td>\n",
       "      <td>6.021776</td>\n",
       "      <td>12.337289</td>\n",
       "      <td>2.145204</td>\n",
       "      <td>2.443522</td>\n",
       "      <td>520.680204</td>\n",
       "      <td>41.642693</td>\n",
       "      <td>0.273539</td>\n",
       "      <td>0.316717</td>\n",
       "      <td>3.972040</td>\n",
       "      <td>39.714369</td>\n",
       "      <td>479.334560</td>\n",
       "      <td>6.542142</td>\n",
       "      <td>6.886443</td>\n",
       "      <td>7947.066342</td>\n",
       "    </tr>\n",
       "    <tr>\n",
       "      <th>min</th>\n",
       "      <td>-2.000000</td>\n",
       "      <td>65.000000</td>\n",
       "      <td>86.600000</td>\n",
       "      <td>141.100000</td>\n",
       "      <td>60.300000</td>\n",
       "      <td>47.800000</td>\n",
       "      <td>1488.000000</td>\n",
       "      <td>61.000000</td>\n",
       "      <td>2.540000</td>\n",
       "      <td>2.070000</td>\n",
       "      <td>7.000000</td>\n",
       "      <td>48.000000</td>\n",
       "      <td>4150.000000</td>\n",
       "      <td>13.000000</td>\n",
       "      <td>16.000000</td>\n",
       "      <td>5118.000000</td>\n",
       "    </tr>\n",
       "    <tr>\n",
       "      <th>25%</th>\n",
       "      <td>0.000000</td>\n",
       "      <td>94.000000</td>\n",
       "      <td>94.500000</td>\n",
       "      <td>166.300000</td>\n",
       "      <td>64.100000</td>\n",
       "      <td>52.000000</td>\n",
       "      <td>2145.000000</td>\n",
       "      <td>97.000000</td>\n",
       "      <td>3.150000</td>\n",
       "      <td>3.110000</td>\n",
       "      <td>8.600000</td>\n",
       "      <td>70.000000</td>\n",
       "      <td>4800.000000</td>\n",
       "      <td>19.000000</td>\n",
       "      <td>25.000000</td>\n",
       "      <td>7775.000000</td>\n",
       "    </tr>\n",
       "    <tr>\n",
       "      <th>50%</th>\n",
       "      <td>1.000000</td>\n",
       "      <td>115.000000</td>\n",
       "      <td>97.000000</td>\n",
       "      <td>173.200000</td>\n",
       "      <td>65.500000</td>\n",
       "      <td>54.100000</td>\n",
       "      <td>2414.000000</td>\n",
       "      <td>120.000000</td>\n",
       "      <td>3.310000</td>\n",
       "      <td>3.290000</td>\n",
       "      <td>9.000000</td>\n",
       "      <td>95.000000</td>\n",
       "      <td>5200.000000</td>\n",
       "      <td>24.000000</td>\n",
       "      <td>30.000000</td>\n",
       "      <td>10295.000000</td>\n",
       "    </tr>\n",
       "    <tr>\n",
       "      <th>75%</th>\n",
       "      <td>2.000000</td>\n",
       "      <td>150.000000</td>\n",
       "      <td>102.400000</td>\n",
       "      <td>183.100000</td>\n",
       "      <td>66.900000</td>\n",
       "      <td>55.500000</td>\n",
       "      <td>2935.000000</td>\n",
       "      <td>141.000000</td>\n",
       "      <td>3.590000</td>\n",
       "      <td>3.410000</td>\n",
       "      <td>9.400000</td>\n",
       "      <td>116.000000</td>\n",
       "      <td>5500.000000</td>\n",
       "      <td>30.000000</td>\n",
       "      <td>34.000000</td>\n",
       "      <td>16500.000000</td>\n",
       "    </tr>\n",
       "    <tr>\n",
       "      <th>max</th>\n",
       "      <td>3.000000</td>\n",
       "      <td>256.000000</td>\n",
       "      <td>120.900000</td>\n",
       "      <td>208.100000</td>\n",
       "      <td>72.300000</td>\n",
       "      <td>59.800000</td>\n",
       "      <td>4066.000000</td>\n",
       "      <td>326.000000</td>\n",
       "      <td>3.940000</td>\n",
       "      <td>4.170000</td>\n",
       "      <td>23.000000</td>\n",
       "      <td>288.000000</td>\n",
       "      <td>6600.000000</td>\n",
       "      <td>49.000000</td>\n",
       "      <td>54.000000</td>\n",
       "      <td>45400.000000</td>\n",
       "    </tr>\n",
       "  </tbody>\n",
       "</table>\n",
       "</div>"
      ],
      "text/plain": [
       "              sym     nor_los  wheel_base      length       width      height  \\\n",
       "count  205.000000  164.000000  205.000000  205.000000  205.000000  205.000000   \n",
       "mean     0.834146  122.000000   98.756585  174.049268   65.907805   53.724878   \n",
       "std      1.245307   35.442168    6.021776   12.337289    2.145204    2.443522   \n",
       "min     -2.000000   65.000000   86.600000  141.100000   60.300000   47.800000   \n",
       "25%      0.000000   94.000000   94.500000  166.300000   64.100000   52.000000   \n",
       "50%      1.000000  115.000000   97.000000  173.200000   65.500000   54.100000   \n",
       "75%      2.000000  150.000000  102.400000  183.100000   66.900000   55.500000   \n",
       "max      3.000000  256.000000  120.900000  208.100000   72.300000   59.800000   \n",
       "\n",
       "       curb_weight  engine_size        bore      stroke   com_ratio  \\\n",
       "count   205.000000   205.000000  201.000000  201.000000  205.000000   \n",
       "mean   2555.565854   126.907317    3.329751    3.255423   10.142537   \n",
       "std     520.680204    41.642693    0.273539    0.316717    3.972040   \n",
       "min    1488.000000    61.000000    2.540000    2.070000    7.000000   \n",
       "25%    2145.000000    97.000000    3.150000    3.110000    8.600000   \n",
       "50%    2414.000000   120.000000    3.310000    3.290000    9.000000   \n",
       "75%    2935.000000   141.000000    3.590000    3.410000    9.400000   \n",
       "max    4066.000000   326.000000    3.940000    4.170000   23.000000   \n",
       "\n",
       "           hpower     peak_rpm    city_mpg      hw_mpg         price  \n",
       "count  203.000000   203.000000  205.000000  205.000000    201.000000  \n",
       "mean   104.256158  5125.369458   25.219512   30.751220  13207.129353  \n",
       "std     39.714369   479.334560    6.542142    6.886443   7947.066342  \n",
       "min     48.000000  4150.000000   13.000000   16.000000   5118.000000  \n",
       "25%     70.000000  4800.000000   19.000000   25.000000   7775.000000  \n",
       "50%     95.000000  5200.000000   24.000000   30.000000  10295.000000  \n",
       "75%    116.000000  5500.000000   30.000000   34.000000  16500.000000  \n",
       "max    288.000000  6600.000000   49.000000   54.000000  45400.000000  "
      ]
     },
     "execution_count": 425,
     "metadata": {},
     "output_type": "execute_result"
    }
   ],
   "source": [
    "data.describe()"
   ]
  },
  {
   "cell_type": "code",
   "execution_count": 426,
   "id": "0b48bbde",
   "metadata": {},
   "outputs": [
    {
     "name": "stdout",
     "output_type": "stream",
     "text": [
      "<class 'pandas.core.frame.DataFrame'>\n",
      "RangeIndex: 205 entries, 0 to 204\n",
      "Data columns (total 26 columns):\n",
      " #   Column       Non-Null Count  Dtype  \n",
      "---  ------       --------------  -----  \n",
      " 0   sym          205 non-null    int64  \n",
      " 1   nor_los      164 non-null    float64\n",
      " 2   make         205 non-null    object \n",
      " 3   fuel_type    205 non-null    object \n",
      " 4   asp          205 non-null    object \n",
      " 5   no_door      203 non-null    object \n",
      " 6   body_style   205 non-null    object \n",
      " 7   d_wheels     205 non-null    object \n",
      " 8   engine_loc   205 non-null    object \n",
      " 9   wheel_base   205 non-null    float64\n",
      " 10  length       205 non-null    float64\n",
      " 11  width        205 non-null    float64\n",
      " 12  height       205 non-null    float64\n",
      " 13  curb_weight  205 non-null    int64  \n",
      " 14  engine_type  205 non-null    object \n",
      " 15  no_cyl       205 non-null    object \n",
      " 16  engine_size  205 non-null    int64  \n",
      " 17  fuel_system  205 non-null    object \n",
      " 18  bore         201 non-null    float64\n",
      " 19  stroke       201 non-null    float64\n",
      " 20  com_ratio    205 non-null    float64\n",
      " 21  hpower       203 non-null    float64\n",
      " 22  peak_rpm     203 non-null    float64\n",
      " 23  city_mpg     205 non-null    int64  \n",
      " 24  hw_mpg       205 non-null    int64  \n",
      " 25  price        201 non-null    float64\n",
      "dtypes: float64(11), int64(5), object(10)\n",
      "memory usage: 41.8+ KB\n"
     ]
    }
   ],
   "source": [
    "data.info()"
   ]
  },
  {
   "cell_type": "code",
   "execution_count": 427,
   "id": "da440438",
   "metadata": {},
   "outputs": [
    {
     "data": {
      "text/plain": [
       "(205, 26)"
      ]
     },
     "execution_count": 427,
     "metadata": {},
     "output_type": "execute_result"
    }
   ],
   "source": [
    "data.shape"
   ]
  },
  {
   "cell_type": "markdown",
   "id": "c12fffd2",
   "metadata": {},
   "source": [
    "<H6>\n",
    "Column1:Symboling\n",
    "<H6>    \n",
    "    \n"
   ]
  },
  {
   "cell_type": "code",
   "execution_count": 428,
   "id": "2a8f86be",
   "metadata": {},
   "outputs": [
    {
     "data": {
      "text/plain": [
       " 0    67\n",
       " 1    54\n",
       " 2    32\n",
       " 3    27\n",
       "-1    22\n",
       "-2     3\n",
       "Name: sym, dtype: int64"
      ]
     },
     "execution_count": 428,
     "metadata": {},
     "output_type": "execute_result"
    }
   ],
   "source": [
    "data.sym.value_counts()"
   ]
  },
  {
   "cell_type": "code",
   "execution_count": 429,
   "id": "28f8c514",
   "metadata": {},
   "outputs": [
    {
     "data": {
      "text/plain": [
       "0"
      ]
     },
     "execution_count": 429,
     "metadata": {},
     "output_type": "execute_result"
    }
   ],
   "source": [
    "data.sym.isnull().sum()"
   ]
  },
  {
   "cell_type": "code",
   "execution_count": 430,
   "id": "ebfb75b8",
   "metadata": {},
   "outputs": [
    {
     "data": {
      "text/plain": [
       "array([ 3,  1,  2,  0, -1, -2], dtype=int64)"
      ]
     },
     "execution_count": 430,
     "metadata": {},
     "output_type": "execute_result"
    }
   ],
   "source": [
    "data.sym.unique()"
   ]
  },
  {
   "cell_type": "code",
   "execution_count": 431,
   "id": "b644747b",
   "metadata": {},
   "outputs": [
    {
     "name": "stderr",
     "output_type": "stream",
     "text": [
      "F:\\Anaconda\\lib\\site-packages\\seaborn\\_decorators.py:36: FutureWarning: Pass the following variable as a keyword arg: x. From version 0.12, the only valid positional argument will be `data`, and passing other arguments without an explicit keyword will result in an error or misinterpretation.\n",
      "  warnings.warn(\n"
     ]
    },
    {
     "data": {
      "text/plain": [
       "<AxesSubplot:xlabel='sym', ylabel='count'>"
      ]
     },
     "execution_count": 431,
     "metadata": {},
     "output_type": "execute_result"
    },
    {
     "data": {
      "image/png": "[encoded data removed]",
      "text/plain": [
       "<Figure size 432x288 with 1 Axes>"
      ]
     },
     "metadata": {
      "needs_background": "light"
     },
     "output_type": "display_data"
    }
   ],
   "source": [
    "sns.countplot(data.sym)"
   ]
  },
  {
   "cell_type": "markdown",
   "id": "17b974a5",
   "metadata": {},
   "source": [
    "<H6>\n",
    "-2,-1,0,1,2,3 is rearranged as less than zero,zero,1,2,3\n",
    "<H6>"
   ]
  },
  {
   "cell_type": "code",
   "execution_count": 432,
   "id": "9326fdfd",
   "metadata": {},
   "outputs": [],
   "source": [
    "data.sym.replace([-2,-1,0,1,2,3],['less than zero','less than zero','zero','1','2','3'],inplace=True)"
   ]
  },
  {
   "cell_type": "code",
   "execution_count": 433,
   "id": "bd203a71",
   "metadata": {},
   "outputs": [
    {
     "name": "stderr",
     "output_type": "stream",
     "text": [
      "F:\\Anaconda\\lib\\site-packages\\seaborn\\_decorators.py:36: FutureWarning: Pass the following variable as a keyword arg: x. From version 0.12, the only valid positional argument will be `data`, and passing other arguments without an explicit keyword will result in an error or misinterpretation.\n",
      "  warnings.warn(\n"
     ]
    },
    {
     "data": {
      "text/plain": [
       "<AxesSubplot:xlabel='sym', ylabel='count'>"
      ]
     },
     "execution_count": 433,
     "metadata": {},
     "output_type": "execute_result"
    },
    {
     "data": {
      "image/png": "[encoded data removed]",
      "text/plain": [
       "<Figure size 432x288 with 1 Axes>"
      ]
     },
     "metadata": {
      "needs_background": "light"
     },
     "output_type": "display_data"
    }
   ],
   "source": [
    "sns.countplot(data.sym)"
   ]
  },
  {
   "cell_type": "code",
   "execution_count": 434,
   "id": "9ad94790",
   "metadata": {},
   "outputs": [
    {
     "name": "stderr",
     "output_type": "stream",
     "text": [
      "F:\\Anaconda\\lib\\site-packages\\seaborn\\_decorators.py:36: FutureWarning: Pass the following variable as a keyword arg: x. From version 0.12, the only valid positional argument will be `data`, and passing other arguments without an explicit keyword will result in an error or misinterpretation.\n",
      "  warnings.warn(\n"
     ]
    },
    {
     "data": {
      "text/plain": [
       "<AxesSubplot:xlabel='sym', ylabel='count'>"
      ]
     },
     "execution_count": 434,
     "metadata": {},
     "output_type": "execute_result"
    },
    {
     "data": {
      "image/png": "[encoded data removed]",
      "text/plain": [
       "<Figure size 432x288 with 1 Axes>"
      ]
     },
     "metadata": {
      "needs_background": "light"
     },
     "output_type": "display_data"
    }
   ],
   "source": [
    "sns.countplot(data.sym,order=['less than zero','zero','1','2','3'])"
   ]
  },
  {
   "cell_type": "markdown",
   "id": "671b49de",
   "metadata": {},
   "source": [
    "<H6>\n",
    "Column2:Normalised Losses\n",
    "<H6>    "
   ]
  },
  {
   "cell_type": "code",
   "execution_count": 435,
   "id": "6b8861ab",
   "metadata": {},
   "outputs": [
    {
     "data": {
      "text/plain": [
       "41"
      ]
     },
     "execution_count": 435,
     "metadata": {},
     "output_type": "execute_result"
    }
   ],
   "source": [
    "data.nor_los.isnull().sum()"
   ]
  },
  {
   "cell_type": "code",
   "execution_count": 436,
   "id": "875bba3a",
   "metadata": {},
   "outputs": [
    {
     "data": {
      "text/plain": [
       "count    164.000000\n",
       "mean     122.000000\n",
       "std       35.442168\n",
       "min       65.000000\n",
       "25%       94.000000\n",
       "50%      115.000000\n",
       "75%      150.000000\n",
       "max      256.000000\n",
       "Name: nor_los, dtype: float64"
      ]
     },
     "execution_count": 436,
     "metadata": {},
     "output_type": "execute_result"
    }
   ],
   "source": [
    "data.nor_los.describe()"
   ]
  },
  {
   "cell_type": "code",
   "execution_count": 437,
   "id": "615d8db7",
   "metadata": {},
   "outputs": [],
   "source": [
    "data.nor_los.fillna(122.0,inplace=True)"
   ]
  },
  {
   "cell_type": "code",
   "execution_count": 438,
   "id": "6d784b3a",
   "metadata": {},
   "outputs": [
    {
     "data": {
      "text/plain": [
       "0"
      ]
     },
     "execution_count": 438,
     "metadata": {},
     "output_type": "execute_result"
    }
   ],
   "source": [
    "data.nor_los.isnull().sum()"
   ]
  },
  {
   "cell_type": "code",
   "execution_count": 439,
   "id": "a412c342",
   "metadata": {},
   "outputs": [
    {
     "data": {
      "text/plain": [
       "{'whiskers': [<matplotlib.lines.Line2D at 0x11860cb80>,\n",
       "  <matplotlib.lines.Line2D at 0x11860cf10>],\n",
       " 'caps': [<matplotlib.lines.Line2D at 0x11861a2e0>,\n",
       "  <matplotlib.lines.Line2D at 0x11861a670>],\n",
       " 'boxes': [<matplotlib.lines.Line2D at 0x11860c7f0>],\n",
       " 'medians': [<matplotlib.lines.Line2D at 0x11861aa00>],\n",
       " 'fliers': [<matplotlib.lines.Line2D at 0x11861ad90>],\n",
       " 'means': []}"
      ]
     },
     "execution_count": 439,
     "metadata": {},
     "output_type": "execute_result"
    },
    {
     "data": {
      "image/png": "[encoded data removed]",
      "text/plain": [
       "<Figure size 432x288 with 1 Axes>"
      ]
     },
     "metadata": {
      "needs_background": "light"
     },
     "output_type": "display_data"
    }
   ],
   "source": [
    "plt.boxplot(data.nor_los)"
   ]
  },
  {
   "cell_type": "code",
   "execution_count": 440,
   "id": "b06c997e",
   "metadata": {},
   "outputs": [
    {
     "data": {
      "text/plain": [
       "array([122., 164., 158., 192., 188., 121.,  98.,  81., 118., 148., 110.,\n",
       "       145., 137., 101.,  78., 106.,  85., 107., 104., 113., 150., 129.,\n",
       "       115.,  93., 142., 161., 153., 125., 128., 103., 168., 108., 194.,\n",
       "       231., 119., 154.,  74., 186.,  83., 102.,  89.,  87.,  77.,  91.,\n",
       "       134.,  65., 197.,  90.,  94., 256.,  95.])"
      ]
     },
     "execution_count": 440,
     "metadata": {},
     "output_type": "execute_result"
    }
   ],
   "source": [
    "data.nor_los.unique()"
   ]
  },
  {
   "cell_type": "code",
   "execution_count": 441,
   "id": "5e0917fa",
   "metadata": {},
   "outputs": [
    {
     "data": {
      "text/plain": [
       "(array([17., 46., 72., 20., 21., 18.,  9.,  0.,  1.,  1.]),\n",
       " array([ 65. ,  84.1, 103.2, 122.3, 141.4, 160.5, 179.6, 198.7, 217.8,\n",
       "        236.9, 256. ]),\n",
       " <BarContainer object of 10 artists>)"
      ]
     },
     "execution_count": 441,
     "metadata": {},
     "output_type": "execute_result"
    },
    {
     "data": {
      "image/png": "[encoded data removed]",
      "text/plain": [
       "<Figure size 432x288 with 1 Axes>"
      ]
     },
     "metadata": {
      "needs_background": "light"
     },
     "output_type": "display_data"
    }
   ],
   "source": [
    "plt.hist(data.nor_los)"
   ]
  },
  {
   "cell_type": "code",
   "execution_count": 442,
   "id": "6d2d72b5",
   "metadata": {},
   "outputs": [
    {
     "name": "stderr",
     "output_type": "stream",
     "text": [
      "F:\\Anaconda\\lib\\site-packages\\seaborn\\_decorators.py:36: FutureWarning: Pass the following variable as a keyword arg: x. From version 0.12, the only valid positional argument will be `data`, and passing other arguments without an explicit keyword will result in an error or misinterpretation.\n",
      "  warnings.warn(\n"
     ]
    },
    {
     "data": {
      "text/plain": [
       "<AxesSubplot:xlabel='nor_los', ylabel='count'>"
      ]
     },
     "execution_count": 442,
     "metadata": {},
     "output_type": "execute_result"
    },
    {
     "data": {
      "image/png": "[encoded data removed]",
      "text/plain": [
       "<Figure size 2160x1440 with 1 Axes>"
      ]
     },
     "metadata": {
      "needs_background": "light"
     },
     "output_type": "display_data"
    }
   ],
   "source": [
    "plt.figure(figsize=(30,20))\n",
    "sns.countplot(data.nor_los)"
   ]
  },
  {
   "cell_type": "markdown",
   "id": "1e164a40",
   "metadata": {},
   "source": [
    "<H6>\n",
    "Column3:Make\n",
    "<H6>    "
   ]
  },
  {
   "cell_type": "code",
   "execution_count": 443,
   "id": "4d2071fe",
   "metadata": {},
   "outputs": [
    {
     "data": {
      "text/plain": [
       "count        205\n",
       "unique        22\n",
       "top       toyota\n",
       "freq          32\n",
       "Name: make, dtype: object"
      ]
     },
     "execution_count": 443,
     "metadata": {},
     "output_type": "execute_result"
    }
   ],
   "source": [
    "data.make.describe()"
   ]
  },
  {
   "cell_type": "code",
   "execution_count": 444,
   "id": "cd3c91f3",
   "metadata": {},
   "outputs": [
    {
     "data": {
      "text/plain": [
       "toyota           32\n",
       "nissan           18\n",
       "mazda            17\n",
       "mitsubishi       13\n",
       "honda            13\n",
       "volkswagen       12\n",
       "subaru           12\n",
       "peugot           11\n",
       "volvo            11\n",
       "dodge             9\n",
       "mercedes-benz     8\n",
       "bmw               8\n",
       "audi              7\n",
       "plymouth          7\n",
       "saab              6\n",
       "porsche           5\n",
       "isuzu             4\n",
       "jaguar            3\n",
       "chevrolet         3\n",
       "alfa-romero       3\n",
       "renault           2\n",
       "mercury           1\n",
       "Name: make, dtype: int64"
      ]
     },
     "execution_count": 444,
     "metadata": {},
     "output_type": "execute_result"
    }
   ],
   "source": [
    "data.make.value_counts()"
   ]
  },
  {
   "cell_type": "code",
   "execution_count": 445,
   "id": "00c64da6",
   "metadata": {},
   "outputs": [
    {
     "data": {
      "text/plain": [
       "0"
      ]
     },
     "execution_count": 445,
     "metadata": {},
     "output_type": "execute_result"
    }
   ],
   "source": [
    "data.make.isnull().sum()"
   ]
  },
  {
   "cell_type": "code",
   "execution_count": 446,
   "id": "1f52437e",
   "metadata": {},
   "outputs": [
    {
     "data": {
      "text/plain": [
       "array(['alfa-romero', 'audi', 'bmw', 'chevrolet', 'dodge', 'honda',\n",
       "       'isuzu', 'jaguar', 'mazda', 'mercedes-benz', 'mercury',\n",
       "       'mitsubishi', 'nissan', 'peugot', 'plymouth', 'porsche', 'renault',\n",
       "       'saab', 'subaru', 'toyota', 'volkswagen', 'volvo'], dtype=object)"
      ]
     },
     "execution_count": 446,
     "metadata": {},
     "output_type": "execute_result"
    }
   ],
   "source": [
    "data.make.unique()"
   ]
  },
  {
   "cell_type": "code",
   "execution_count": 447,
   "id": "373f1e23",
   "metadata": {},
   "outputs": [
    {
     "name": "stderr",
     "output_type": "stream",
     "text": [
      "F:\\Anaconda\\lib\\site-packages\\seaborn\\_decorators.py:36: FutureWarning: Pass the following variable as a keyword arg: x. From version 0.12, the only valid positional argument will be `data`, and passing other arguments without an explicit keyword will result in an error or misinterpretation.\n",
      "  warnings.warn(\n"
     ]
    },
    {
     "data": {
      "text/plain": [
       "<AxesSubplot:xlabel='make', ylabel='count'>"
      ]
     },
     "execution_count": 447,
     "metadata": {},
     "output_type": "execute_result"
    },
    {
     "data": {
      "image/png": "[encoded data removed]",
      "text/plain": [
       "<Figure size 2160x1440 with 1 Axes>"
      ]
     },
     "metadata": {
      "needs_background": "light"
     },
     "output_type": "display_data"
    }
   ],
   "source": [
    "plt.figure(figsize=(30,20))\n",
    "sns.countplot(data.make)"
   ]
  },
  {
   "cell_type": "markdown",
   "id": "84d0144b",
   "metadata": {},
   "source": [
    "<H6>\n",
    "Column4:Fuel types\n",
    "<H6>    "
   ]
  },
  {
   "cell_type": "code",
   "execution_count": 448,
   "id": "e7c3fc7a",
   "metadata": {},
   "outputs": [
    {
     "data": {
      "text/plain": [
       "count     205\n",
       "unique      2\n",
       "top       gas\n",
       "freq      185\n",
       "Name: fuel_type, dtype: object"
      ]
     },
     "execution_count": 448,
     "metadata": {},
     "output_type": "execute_result"
    }
   ],
   "source": [
    "data.fuel_type.describe()"
   ]
  },
  {
   "cell_type": "code",
   "execution_count": 449,
   "id": "227a65b3",
   "metadata": {},
   "outputs": [
    {
     "data": {
      "text/plain": [
       "gas       185\n",
       "diesel     20\n",
       "Name: fuel_type, dtype: int64"
      ]
     },
     "execution_count": 449,
     "metadata": {},
     "output_type": "execute_result"
    }
   ],
   "source": [
    "data.fuel_type.value_counts()"
   ]
  },
  {
   "cell_type": "code",
   "execution_count": 450,
   "id": "6204bca1",
   "metadata": {},
   "outputs": [
    {
     "data": {
      "text/plain": [
       "0"
      ]
     },
     "execution_count": 450,
     "metadata": {},
     "output_type": "execute_result"
    }
   ],
   "source": [
    "data.fuel_type.isnull().sum()"
   ]
  },
  {
   "cell_type": "code",
   "execution_count": 451,
   "id": "693436da",
   "metadata": {},
   "outputs": [
    {
     "data": {
      "text/plain": [
       "array(['gas', 'diesel'], dtype=object)"
      ]
     },
     "execution_count": 451,
     "metadata": {},
     "output_type": "execute_result"
    }
   ],
   "source": [
    "data.fuel_type.unique()"
   ]
  },
  {
   "cell_type": "code",
   "execution_count": 452,
   "id": "85546c1b",
   "metadata": {},
   "outputs": [
    {
     "name": "stderr",
     "output_type": "stream",
     "text": [
      "F:\\Anaconda\\lib\\site-packages\\seaborn\\_decorators.py:36: FutureWarning: Pass the following variable as a keyword arg: x. From version 0.12, the only valid positional argument will be `data`, and passing other arguments without an explicit keyword will result in an error or misinterpretation.\n",
      "  warnings.warn(\n"
     ]
    },
    {
     "data": {
      "text/plain": [
       "<AxesSubplot:xlabel='fuel_type', ylabel='count'>"
      ]
     },
     "execution_count": 452,
     "metadata": {},
     "output_type": "execute_result"
    },
    {
     "data": {
      "image/png": "[encoded data removed]",
      "text/plain": [
       "<Figure size 432x288 with 1 Axes>"
      ]
     },
     "metadata": {
      "needs_background": "light"
     },
     "output_type": "display_data"
    }
   ],
   "source": [
    "sns.countplot(data.fuel_type)"
   ]
  },
  {
   "cell_type": "markdown",
   "id": "deb397b9",
   "metadata": {},
   "source": [
    "<H6>\n",
    "Column5:Aspiration\n",
    "<H6>"
   ]
  },
  {
   "cell_type": "code",
   "execution_count": 453,
   "id": "1decd27e",
   "metadata": {},
   "outputs": [
    {
     "data": {
      "text/plain": [
       "count     205\n",
       "unique      2\n",
       "top       std\n",
       "freq      168\n",
       "Name: asp, dtype: object"
      ]
     },
     "execution_count": 453,
     "metadata": {},
     "output_type": "execute_result"
    }
   ],
   "source": [
    "data.asp.describe()"
   ]
  },
  {
   "cell_type": "code",
   "execution_count": 454,
   "id": "11b30782",
   "metadata": {},
   "outputs": [
    {
     "data": {
      "text/plain": [
       "std      168\n",
       "turbo     37\n",
       "Name: asp, dtype: int64"
      ]
     },
     "execution_count": 454,
     "metadata": {},
     "output_type": "execute_result"
    }
   ],
   "source": [
    "data.asp.value_counts()"
   ]
  },
  {
   "cell_type": "code",
   "execution_count": 455,
   "id": "8c5170c3",
   "metadata": {},
   "outputs": [
    {
     "data": {
      "text/plain": [
       "0"
      ]
     },
     "execution_count": 455,
     "metadata": {},
     "output_type": "execute_result"
    }
   ],
   "source": [
    "data.asp.isnull().sum()"
   ]
  },
  {
   "cell_type": "code",
   "execution_count": 456,
   "id": "f4e6faba",
   "metadata": {},
   "outputs": [
    {
     "data": {
      "text/plain": [
       "array(['std', 'turbo'], dtype=object)"
      ]
     },
     "execution_count": 456,
     "metadata": {},
     "output_type": "execute_result"
    }
   ],
   "source": [
    "data.asp.unique()"
   ]
  },
  {
   "cell_type": "code",
   "execution_count": 457,
   "id": "7df8b456",
   "metadata": {},
   "outputs": [
    {
     "name": "stderr",
     "output_type": "stream",
     "text": [
      "F:\\Anaconda\\lib\\site-packages\\seaborn\\_decorators.py:36: FutureWarning: Pass the following variable as a keyword arg: x. From version 0.12, the only valid positional argument will be `data`, and passing other arguments without an explicit keyword will result in an error or misinterpretation.\n",
      "  warnings.warn(\n"
     ]
    },
    {
     "data": {
      "text/plain": [
       "<AxesSubplot:xlabel='asp', ylabel='count'>"
      ]
     },
     "execution_count": 457,
     "metadata": {},
     "output_type": "execute_result"
    },
    {
     "data": {
      "image/png": "[encoded data removed]",
      "text/plain": [
       "<Figure size 432x288 with 1 Axes>"
      ]
     },
     "metadata": {
      "needs_background": "light"
     },
     "output_type": "display_data"
    }
   ],
   "source": [
    "sns.countplot(data.asp)"
   ]
  },
  {
   "cell_type": "markdown",
   "id": "acc13808",
   "metadata": {},
   "source": [
    "<H6>\n",
    "Column6:No Of Doors\n",
    "<H6>    "
   ]
  },
  {
   "cell_type": "code",
   "execution_count": 458,
   "id": "a5d4836b",
   "metadata": {},
   "outputs": [
    {
     "data": {
      "text/plain": [
       "count      203\n",
       "unique       2\n",
       "top       four\n",
       "freq       114\n",
       "Name: no_door, dtype: object"
      ]
     },
     "execution_count": 458,
     "metadata": {},
     "output_type": "execute_result"
    }
   ],
   "source": [
    "data.no_door.describe()"
   ]
  },
  {
   "cell_type": "code",
   "execution_count": 459,
   "id": "a620d83d",
   "metadata": {},
   "outputs": [
    {
     "data": {
      "text/plain": [
       "four    114\n",
       "two      89\n",
       "Name: no_door, dtype: int64"
      ]
     },
     "execution_count": 459,
     "metadata": {},
     "output_type": "execute_result"
    }
   ],
   "source": [
    "data.no_door.value_counts()"
   ]
  },
  {
   "cell_type": "code",
   "execution_count": 460,
   "id": "ead8ebde",
   "metadata": {},
   "outputs": [
    {
     "data": {
      "text/plain": [
       "2"
      ]
     },
     "execution_count": 460,
     "metadata": {},
     "output_type": "execute_result"
    }
   ],
   "source": [
    "data.no_door.isnull().sum()"
   ]
  },
  {
   "cell_type": "code",
   "execution_count": 461,
   "id": "b2c968ef",
   "metadata": {},
   "outputs": [],
   "source": [
    "data.no_door.fillna('four',inplace=True)"
   ]
  },
  {
   "cell_type": "code",
   "execution_count": 462,
   "id": "8285b5f0",
   "metadata": {},
   "outputs": [
    {
     "data": {
      "text/plain": [
       "0"
      ]
     },
     "execution_count": 462,
     "metadata": {},
     "output_type": "execute_result"
    }
   ],
   "source": [
    "data.no_door.isnull().sum()"
   ]
  },
  {
   "cell_type": "code",
   "execution_count": 463,
   "id": "09db6077",
   "metadata": {},
   "outputs": [
    {
     "data": {
      "text/plain": [
       "array(['two', 'four'], dtype=object)"
      ]
     },
     "execution_count": 463,
     "metadata": {},
     "output_type": "execute_result"
    }
   ],
   "source": [
    "data.no_door.unique()"
   ]
  },
  {
   "cell_type": "code",
   "execution_count": 464,
   "id": "48dc67dd",
   "metadata": {},
   "outputs": [
    {
     "name": "stderr",
     "output_type": "stream",
     "text": [
      "F:\\Anaconda\\lib\\site-packages\\seaborn\\_decorators.py:36: FutureWarning: Pass the following variable as a keyword arg: x. From version 0.12, the only valid positional argument will be `data`, and passing other arguments without an explicit keyword will result in an error or misinterpretation.\n",
      "  warnings.warn(\n"
     ]
    },
    {
     "data": {
      "text/plain": [
       "<AxesSubplot:xlabel='no_door', ylabel='count'>"
      ]
     },
     "execution_count": 464,
     "metadata": {},
     "output_type": "execute_result"
    },
    {
     "data": {
      "image/png": "[encoded data removed]",
      "text/plain": [
       "<Figure size 432x288 with 1 Axes>"
      ]
     },
     "metadata": {
      "needs_background": "light"
     },
     "output_type": "display_data"
    }
   ],
   "source": [
    "sns.countplot(data.no_door)"
   ]
  },
  {
   "cell_type": "markdown",
   "id": "96dba868",
   "metadata": {},
   "source": [
    "<H6>\n",
    "Column7:Body Style\n",
    "<H6>    "
   ]
  },
  {
   "cell_type": "code",
   "execution_count": 465,
   "id": "abe51fa6",
   "metadata": {},
   "outputs": [
    {
     "data": {
      "text/plain": [
       "count       205\n",
       "unique        5\n",
       "top       sedan\n",
       "freq         96\n",
       "Name: body_style, dtype: object"
      ]
     },
     "execution_count": 465,
     "metadata": {},
     "output_type": "execute_result"
    }
   ],
   "source": [
    "data.body_style.describe()"
   ]
  },
  {
   "cell_type": "code",
   "execution_count": 466,
   "id": "5c0737d8",
   "metadata": {},
   "outputs": [
    {
     "data": {
      "text/plain": [
       "sedan          96\n",
       "hatchback      70\n",
       "wagon          25\n",
       "hardtop         8\n",
       "convertible     6\n",
       "Name: body_style, dtype: int64"
      ]
     },
     "execution_count": 466,
     "metadata": {},
     "output_type": "execute_result"
    }
   ],
   "source": [
    "data.body_style.value_counts()"
   ]
  },
  {
   "cell_type": "code",
   "execution_count": 467,
   "id": "ae5d9700",
   "metadata": {},
   "outputs": [
    {
     "data": {
      "text/plain": [
       "0"
      ]
     },
     "execution_count": 467,
     "metadata": {},
     "output_type": "execute_result"
    }
   ],
   "source": [
    "data.body_style.isnull().sum()"
   ]
  },
  {
   "cell_type": "code",
   "execution_count": 468,
   "id": "198b9a04",
   "metadata": {},
   "outputs": [
    {
     "data": {
      "text/plain": [
       "array(['convertible', 'hatchback', 'sedan', 'wagon', 'hardtop'],\n",
       "      dtype=object)"
      ]
     },
     "execution_count": 468,
     "metadata": {},
     "output_type": "execute_result"
    }
   ],
   "source": [
    "data.body_style.unique()"
   ]
  },
  {
   "cell_type": "code",
   "execution_count": 469,
   "id": "6c825e4e",
   "metadata": {},
   "outputs": [
    {
     "name": "stderr",
     "output_type": "stream",
     "text": [
      "F:\\Anaconda\\lib\\site-packages\\seaborn\\_decorators.py:36: FutureWarning: Pass the following variable as a keyword arg: x. From version 0.12, the only valid positional argument will be `data`, and passing other arguments without an explicit keyword will result in an error or misinterpretation.\n",
      "  warnings.warn(\n"
     ]
    },
    {
     "data": {
      "text/plain": [
       "<AxesSubplot:xlabel='body_style', ylabel='count'>"
      ]
     },
     "execution_count": 469,
     "metadata": {},
     "output_type": "execute_result"
    },
    {
     "data": {
      "image/png": "[encoded data removed]",
      "text/plain": [
       "<Figure size 432x288 with 1 Axes>"
      ]
     },
     "metadata": {
      "needs_background": "light"
     },
     "output_type": "display_data"
    }
   ],
   "source": [
    "sns.countplot(data.body_style)"
   ]
  },
  {
   "cell_type": "markdown",
   "id": "c0ebc7fb",
   "metadata": {},
   "source": [
    "<H6>\n",
    "Column8:Drive Wheels\n",
    "<H6>"
   ]
  },
  {
   "cell_type": "code",
   "execution_count": 470,
   "id": "da862c63",
   "metadata": {},
   "outputs": [
    {
     "data": {
      "text/plain": [
       "count     205\n",
       "unique      3\n",
       "top       fwd\n",
       "freq      120\n",
       "Name: d_wheels, dtype: object"
      ]
     },
     "execution_count": 470,
     "metadata": {},
     "output_type": "execute_result"
    }
   ],
   "source": [
    "data.d_wheels.describe()"
   ]
  },
  {
   "cell_type": "code",
   "execution_count": 471,
   "id": "7bc3d303",
   "metadata": {},
   "outputs": [
    {
     "data": {
      "text/plain": [
       "fwd    120\n",
       "rwd     76\n",
       "4wd      9\n",
       "Name: d_wheels, dtype: int64"
      ]
     },
     "execution_count": 471,
     "metadata": {},
     "output_type": "execute_result"
    }
   ],
   "source": [
    "data.d_wheels.value_counts()"
   ]
  },
  {
   "cell_type": "code",
   "execution_count": 472,
   "id": "98516f4f",
   "metadata": {},
   "outputs": [
    {
     "data": {
      "text/plain": [
       "0"
      ]
     },
     "execution_count": 472,
     "metadata": {},
     "output_type": "execute_result"
    }
   ],
   "source": [
    "data.d_wheels.isnull().sum()"
   ]
  },
  {
   "cell_type": "code",
   "execution_count": 473,
   "id": "fe130e6b",
   "metadata": {},
   "outputs": [
    {
     "data": {
      "text/plain": [
       "array(['rwd', 'fwd', '4wd'], dtype=object)"
      ]
     },
     "execution_count": 473,
     "metadata": {},
     "output_type": "execute_result"
    }
   ],
   "source": [
    "data.d_wheels.unique()"
   ]
  },
  {
   "cell_type": "code",
   "execution_count": 474,
   "id": "65e8d108",
   "metadata": {},
   "outputs": [
    {
     "name": "stderr",
     "output_type": "stream",
     "text": [
      "F:\\Anaconda\\lib\\site-packages\\seaborn\\_decorators.py:36: FutureWarning: Pass the following variable as a keyword arg: x. From version 0.12, the only valid positional argument will be `data`, and passing other arguments without an explicit keyword will result in an error or misinterpretation.\n",
      "  warnings.warn(\n"
     ]
    },
    {
     "data": {
      "text/plain": [
       "<AxesSubplot:xlabel='d_wheels', ylabel='count'>"
      ]
     },
     "execution_count": 474,
     "metadata": {},
     "output_type": "execute_result"
    },
    {
     "data": {
      "image/png": "[encoded data removed]",
      "text/plain": [
       "<Figure size 432x288 with 1 Axes>"
      ]
     },
     "metadata": {
      "needs_background": "light"
     },
     "output_type": "display_data"
    }
   ],
   "source": [
    "sns.countplot(data.d_wheels)"
   ]
  },
  {
   "cell_type": "code",
   "execution_count": 475,
   "id": "599da694",
   "metadata": {},
   "outputs": [],
   "source": [
    "data.d_wheels.replace(['4wd','rwd'],['not fwd','not fwd'],inplace=True)"
   ]
  },
  {
   "cell_type": "code",
   "execution_count": 476,
   "id": "9ef9f6a2",
   "metadata": {},
   "outputs": [
    {
     "name": "stderr",
     "output_type": "stream",
     "text": [
      "F:\\Anaconda\\lib\\site-packages\\seaborn\\_decorators.py:36: FutureWarning: Pass the following variable as a keyword arg: x. From version 0.12, the only valid positional argument will be `data`, and passing other arguments without an explicit keyword will result in an error or misinterpretation.\n",
      "  warnings.warn(\n"
     ]
    },
    {
     "data": {
      "text/plain": [
       "<AxesSubplot:xlabel='d_wheels', ylabel='count'>"
      ]
     },
     "execution_count": 476,
     "metadata": {},
     "output_type": "execute_result"
    },
    {
     "data": {
      "image/png": "[encoded data removed]",
      "text/plain": [
       "<Figure size 432x288 with 1 Axes>"
      ]
     },
     "metadata": {
      "needs_background": "light"
     },
     "output_type": "display_data"
    }
   ],
   "source": [
    "sns.countplot(data.d_wheels)"
   ]
  },
  {
   "cell_type": "markdown",
   "id": "49db5926",
   "metadata": {},
   "source": [
    "<H6>\n",
    "Column9:Engine Location\n",
    "<H6>"
   ]
  },
  {
   "cell_type": "code",
   "execution_count": 477,
   "id": "3250364c",
   "metadata": {},
   "outputs": [
    {
     "data": {
      "text/plain": [
       "count       205\n",
       "unique        2\n",
       "top       front\n",
       "freq        202\n",
       "Name: engine_loc, dtype: object"
      ]
     },
     "execution_count": 477,
     "metadata": {},
     "output_type": "execute_result"
    }
   ],
   "source": [
    "data.engine_loc.describe()"
   ]
  },
  {
   "cell_type": "code",
   "execution_count": 478,
   "id": "f865cf71",
   "metadata": {},
   "outputs": [
    {
     "data": {
      "text/plain": [
       "front    202\n",
       "rear       3\n",
       "Name: engine_loc, dtype: int64"
      ]
     },
     "execution_count": 478,
     "metadata": {},
     "output_type": "execute_result"
    }
   ],
   "source": [
    "data.engine_loc.value_counts()"
   ]
  },
  {
   "cell_type": "code",
   "execution_count": 479,
   "id": "1a289dd7",
   "metadata": {},
   "outputs": [
    {
     "data": {
      "text/plain": [
       "0"
      ]
     },
     "execution_count": 479,
     "metadata": {},
     "output_type": "execute_result"
    }
   ],
   "source": [
    "data.engine_loc.isnull().sum()"
   ]
  },
  {
   "cell_type": "code",
   "execution_count": 480,
   "id": "e5b1aed7",
   "metadata": {},
   "outputs": [
    {
     "data": {
      "text/plain": [
       "array(['front', 'rear'], dtype=object)"
      ]
     },
     "execution_count": 480,
     "metadata": {},
     "output_type": "execute_result"
    }
   ],
   "source": [
    "data.engine_loc.unique()"
   ]
  },
  {
   "cell_type": "code",
   "execution_count": 481,
   "id": "8508b935",
   "metadata": {},
   "outputs": [
    {
     "name": "stderr",
     "output_type": "stream",
     "text": [
      "F:\\Anaconda\\lib\\site-packages\\seaborn\\_decorators.py:36: FutureWarning: Pass the following variable as a keyword arg: x. From version 0.12, the only valid positional argument will be `data`, and passing other arguments without an explicit keyword will result in an error or misinterpretation.\n",
      "  warnings.warn(\n"
     ]
    },
    {
     "data": {
      "text/plain": [
       "<AxesSubplot:xlabel='engine_loc', ylabel='count'>"
      ]
     },
     "execution_count": 481,
     "metadata": {},
     "output_type": "execute_result"
    },
    {
     "data": {
      "image/png": "[encoded data removed]",
      "text/plain": [
       "<Figure size 432x288 with 1 Axes>"
      ]
     },
     "metadata": {
      "needs_background": "light"
     },
     "output_type": "display_data"
    }
   ],
   "source": [
    "sns.countplot(data.engine_loc)"
   ]
  },
  {
   "cell_type": "markdown",
   "id": "2f592364",
   "metadata": {},
   "source": [
    "<H6>\n",
    "Column10:Wheel Base\n",
    "<H6>    "
   ]
  },
  {
   "cell_type": "code",
   "execution_count": 482,
   "id": "81ec5de6",
   "metadata": {},
   "outputs": [
    {
     "data": {
      "text/plain": [
       "count    205.000000\n",
       "mean      98.756585\n",
       "std        6.021776\n",
       "min       86.600000\n",
       "25%       94.500000\n",
       "50%       97.000000\n",
       "75%      102.400000\n",
       "max      120.900000\n",
       "Name: wheel_base, dtype: float64"
      ]
     },
     "execution_count": 482,
     "metadata": {},
     "output_type": "execute_result"
    }
   ],
   "source": [
    "data.wheel_base.describe()"
   ]
  },
  {
   "cell_type": "code",
   "execution_count": 488,
   "id": "b09e4677",
   "metadata": {},
   "outputs": [
    {
     "data": {
      "text/plain": [
       "0"
      ]
     },
     "execution_count": 488,
     "metadata": {},
     "output_type": "execute_result"
    }
   ],
   "source": [
    "data.wheel_base.isnull().sum()"
   ]
  },
  {
   "cell_type": "code",
   "execution_count": 489,
   "id": "309e255e",
   "metadata": {},
   "outputs": [
    {
     "data": {
      "text/plain": [
       "array([ 88.6,  94.5,  99.8,  99.4, 105.8,  99.5, 101.2, 103.5, 110. ,\n",
       "        88.4,  93.7, 103.3,  95.9,  86.6,  96.5,  94.3,  96. , 113. ,\n",
       "       102. ,  93.1,  95.3,  98.8, 104.9, 106.7, 115.6,  96.6, 120.9,\n",
       "       112. , 102.7,  93. ,  96.3,  95.1,  97.2, 100.4,  91.3,  99.2,\n",
       "       107.9, 114.2, 108. ,  89.5,  98.4,  96.1,  99.1,  93.3,  97. ,\n",
       "        96.9,  95.7, 102.4, 102.9, 104.5,  97.3, 104.3, 109.1])"
      ]
     },
     "execution_count": 489,
     "metadata": {},
     "output_type": "execute_result"
    }
   ],
   "source": [
    "data.wheel_base.unique()"
   ]
  },
  {
   "cell_type": "code",
   "execution_count": 490,
   "id": "6daaa6d2",
   "metadata": {},
   "outputs": [
    {
     "data": {
      "text/plain": [
       "{'whiskers': [<matplotlib.lines.Line2D at 0x11af383d0>,\n",
       "  <matplotlib.lines.Line2D at 0x11af38760>],\n",
       " 'caps': [<matplotlib.lines.Line2D at 0x11af38af0>,\n",
       "  <matplotlib.lines.Line2D at 0x11af38e80>],\n",
       " 'boxes': [<matplotlib.lines.Line2D at 0x11af38040>],\n",
       " 'medians': [<matplotlib.lines.Line2D at 0x11af42250>],\n",
       " 'fliers': [<matplotlib.lines.Line2D at 0x11af425e0>],\n",
       " 'means': []}"
      ]
     },
     "execution_count": 490,
     "metadata": {},
     "output_type": "execute_result"
    },
    {
     "data": {
      "image/png": "[encoded data removed]",
      "text/plain": [
       "<Figure size 432x288 with 1 Axes>"
      ]
     },
     "metadata": {
      "needs_background": "light"
     },
     "output_type": "display_data"
    }
   ],
   "source": [
    "plt.boxplot(data.wheel_base)"
   ]
  },
  {
   "cell_type": "code",
   "execution_count": 491,
   "id": "131daf2b",
   "metadata": {},
   "outputs": [
    {
     "data": {
      "text/plain": [
       "ShapiroResult(statistic=0.9115860462188721, pvalue=1.0368441660801864e-09)"
      ]
     },
     "execution_count": 491,
     "metadata": {},
     "output_type": "execute_result"
    }
   ],
   "source": [
    "stats.shapiro(data.wheel_base)"
   ]
  },
  {
   "cell_type": "markdown",
   "id": "0fb7aecb",
   "metadata": {},
   "source": [
    "<H6>\n",
    "The data is not normally distributed since the p value is less than alpha value\n",
    "<H6>"
   ]
  },
  {
   "cell_type": "code",
   "execution_count": 492,
   "id": "32922c37",
   "metadata": {},
   "outputs": [
    {
     "data": {
      "text/plain": [
       "(array([ 8.,  9., 83., 42., 24., 14., 15.,  3.,  6.,  1.]),\n",
       " array([ 86.6 ,  90.03,  93.46,  96.89, 100.32, 103.75, 107.18, 110.61,\n",
       "        114.04, 117.47, 120.9 ]),\n",
       " <BarContainer object of 10 artists>)"
      ]
     },
     "execution_count": 492,
     "metadata": {},
     "output_type": "execute_result"
    },
    {
     "data": {
      "image/png": "[encoded data removed]",
      "text/plain": [
       "<Figure size 432x288 with 1 Axes>"
      ]
     },
     "metadata": {
      "needs_background": "light"
     },
     "output_type": "display_data"
    }
   ],
   "source": [
    "plt.hist(data.wheel_base)"
   ]
  },
  {
   "cell_type": "markdown",
   "id": "5cc63f00",
   "metadata": {},
   "source": [
    "<H6>\n",
    "Column11:Length\n",
    "<H6>"
   ]
  },
  {
   "cell_type": "code",
   "execution_count": 493,
   "id": "43627128",
   "metadata": {},
   "outputs": [
    {
     "data": {
      "text/plain": [
       "count    205.000000\n",
       "mean     174.049268\n",
       "std       12.337289\n",
       "min      141.100000\n",
       "25%      166.300000\n",
       "50%      173.200000\n",
       "75%      183.100000\n",
       "max      208.100000\n",
       "Name: length, dtype: float64"
      ]
     },
     "execution_count": 493,
     "metadata": {},
     "output_type": "execute_result"
    }
   ],
   "source": [
    "data.length.describe()"
   ]
  },
  {
   "cell_type": "code",
   "execution_count": 494,
   "id": "87e66610",
   "metadata": {},
   "outputs": [
    {
     "data": {
      "text/plain": [
       "0"
      ]
     },
     "execution_count": 494,
     "metadata": {},
     "output_type": "execute_result"
    }
   ],
   "source": [
    "data.length.isnull().sum()"
   ]
  },
  {
   "cell_type": "code",
   "execution_count": 495,
   "id": "e582aff4",
   "metadata": {},
   "outputs": [
    {
     "data": {
      "text/plain": [
       "array([168.8, 171.2, 176.6, 177.3, 192.7, 178.2, 176.8, 189. , 193.8,\n",
       "       197. , 141.1, 155.9, 158.8, 157.3, 174.6, 173.2, 144.6, 150. ,\n",
       "       163.4, 157.1, 167.5, 175.4, 169.1, 170.7, 172.6, 199.6, 191.7,\n",
       "       159.1, 166.8, 169. , 177.8, 175. , 190.9, 187.5, 202.6, 180.3,\n",
       "       208.1, 199.2, 178.4, 173. , 172.4, 165.3, 170.2, 165.6, 162.4,\n",
       "       173.4, 181.7, 184.6, 178.5, 186.7, 198.9, 167.3, 168.9, 175.7,\n",
       "       181.5, 186.6, 156.9, 157.9, 172. , 173.5, 173.6, 158.7, 169.7,\n",
       "       166.3, 168.7, 176.2, 175.6, 183.5, 187.8, 171.7, 159.3, 165.7,\n",
       "       180.2, 183.1, 188.8])"
      ]
     },
     "execution_count": 495,
     "metadata": {},
     "output_type": "execute_result"
    }
   ],
   "source": [
    "data.length.unique()"
   ]
  },
  {
   "cell_type": "code",
   "execution_count": 496,
   "id": "da6412e5",
   "metadata": {},
   "outputs": [
    {
     "data": {
      "text/plain": [
       "{'whiskers': [<matplotlib.lines.Line2D at 0x11b0257c0>,\n",
       "  <matplotlib.lines.Line2D at 0x11b025b50>],\n",
       " 'caps': [<matplotlib.lines.Line2D at 0x11b025ee0>,\n",
       "  <matplotlib.lines.Line2D at 0x11b0312b0>],\n",
       " 'boxes': [<matplotlib.lines.Line2D at 0x11b025430>],\n",
       " 'medians': [<matplotlib.lines.Line2D at 0x11b031640>],\n",
       " 'fliers': [<matplotlib.lines.Line2D at 0x11b0319d0>],\n",
       " 'means': []}"
      ]
     },
     "execution_count": 496,
     "metadata": {},
     "output_type": "execute_result"
    },
    {
     "data": {
      "image/png": "[encoded data removed]",
      "text/plain": [
       "<Figure size 432x288 with 1 Axes>"
      ]
     },
     "metadata": {
      "needs_background": "light"
     },
     "output_type": "display_data"
    }
   ],
   "source": [
    "plt.boxplot(data.length)"
   ]
  },
  {
   "cell_type": "code",
   "execution_count": 497,
   "id": "1b80527d",
   "metadata": {},
   "outputs": [
    {
     "data": {
      "text/plain": [
       "(array([ 3.,  3., 29., 23., 54., 39., 23., 20.,  8.,  3.]),\n",
       " array([141.1, 147.8, 154.5, 161.2, 167.9, 174.6, 181.3, 188. , 194.7,\n",
       "        201.4, 208.1]),\n",
       " <BarContainer object of 10 artists>)"
      ]
     },
     "execution_count": 497,
     "metadata": {},
     "output_type": "execute_result"
    },
    {
     "data": {
      "image/png": "[encoded data removed]",
      "text/plain": [
       "<Figure size 432x288 with 1 Axes>"
      ]
     },
     "metadata": {
      "needs_background": "light"
     },
     "output_type": "display_data"
    }
   ],
   "source": [
    "plt.hist(data.length)"
   ]
  },
  {
   "cell_type": "code",
   "execution_count": 498,
   "id": "7a5caaec",
   "metadata": {},
   "outputs": [
    {
     "data": {
      "text/plain": [
       "ShapiroResult(statistic=0.9820953607559204, pvalue=0.01036272943019867)"
      ]
     },
     "execution_count": 498,
     "metadata": {},
     "output_type": "execute_result"
    }
   ],
   "source": [
    "stats.shapiro(data.length)"
   ]
  },
  {
   "cell_type": "markdown",
   "id": "c96ce0aa",
   "metadata": {},
   "source": [
    "<H6>\n",
    "The data is not normally distributed since the p value is less than alpha value\n",
    "<H6>"
   ]
  },
  {
   "cell_type": "markdown",
   "id": "053ab3dc",
   "metadata": {},
   "source": [
    "<H6>\n",
    "Column12:Width\n",
    "<H6>"
   ]
  },
  {
   "cell_type": "code",
   "execution_count": 505,
   "id": "67823c3e",
   "metadata": {},
   "outputs": [
    {
     "data": {
      "text/plain": [
       "count    205.000000\n",
       "mean      65.907805\n",
       "std        2.145204\n",
       "min       60.300000\n",
       "25%       64.100000\n",
       "50%       65.500000\n",
       "75%       66.900000\n",
       "max       72.300000\n",
       "Name: width, dtype: float64"
      ]
     },
     "execution_count": 505,
     "metadata": {},
     "output_type": "execute_result"
    }
   ],
   "source": [
    "data.width.describe()"
   ]
  },
  {
   "cell_type": "code",
   "execution_count": 506,
   "id": "b9d1fcac",
   "metadata": {},
   "outputs": [
    {
     "data": {
      "text/plain": [
       "0"
      ]
     },
     "execution_count": 506,
     "metadata": {},
     "output_type": "execute_result"
    }
   ],
   "source": [
    "data.width.isnull().sum()"
   ]
  },
  {
   "cell_type": "code",
   "execution_count": 507,
   "id": "16dcd7d8",
   "metadata": {},
   "outputs": [
    {
     "data": {
      "text/plain": [
       "array([64.1, 65.5, 66.2, 66.4, 66.3, 71.4, 67.9, 64.8, 66.9, 70.9, 60.3,\n",
       "       63.6, 63.8, 64.6, 63.9, 64. , 65.2, 62.5, 66. , 61.8, 69.6, 70.6,\n",
       "       64.2, 65.7, 66.5, 66.1, 70.3, 71.7, 70.5, 72. , 68. , 64.4, 65.4,\n",
       "       68.4, 68.3, 65. , 72.3, 66.6, 63.4, 65.6, 67.7, 67.2, 68.9, 68.8])"
      ]
     },
     "execution_count": 507,
     "metadata": {},
     "output_type": "execute_result"
    }
   ],
   "source": [
    "data.width.unique()"
   ]
  },
  {
   "cell_type": "code",
   "execution_count": 508,
   "id": "785a8190",
   "metadata": {},
   "outputs": [
    {
     "data": {
      "text/plain": [
       "{'whiskers': [<matplotlib.lines.Line2D at 0x11b1e1ca0>,\n",
       "  <matplotlib.lines.Line2D at 0x11b1f0070>],\n",
       " 'caps': [<matplotlib.lines.Line2D at 0x11b1f0400>,\n",
       "  <matplotlib.lines.Line2D at 0x11b1f0790>],\n",
       " 'boxes': [<matplotlib.lines.Line2D at 0x11b1e1910>],\n",
       " 'medians': [<matplotlib.lines.Line2D at 0x11b1f0b20>],\n",
       " 'fliers': [<matplotlib.lines.Line2D at 0x11b1f0eb0>],\n",
       " 'means': []}"
      ]
     },
     "execution_count": 508,
     "metadata": {},
     "output_type": "execute_result"
    },
    {
     "data": {
      "image/png": "[encoded data removed]",
      "text/plain": [
       "<Figure size 432x288 with 1 Axes>"
      ]
     },
     "metadata": {
      "needs_background": "light"
     },
     "output_type": "display_data"
    }
   ],
   "source": [
    "plt.boxplot(data.width)\n"
   ]
  },
  {
   "cell_type": "code",
   "execution_count": 509,
   "id": "fee813fd",
   "metadata": {},
   "outputs": [
    {
     "data": {
      "text/plain": [
       "(array([ 1.,  2., 36., 39., 44., 42., 20.,  7.,  6.,  8.]),\n",
       " array([60.3, 61.5, 62.7, 63.9, 65.1, 66.3, 67.5, 68.7, 69.9, 71.1, 72.3]),\n",
       " <BarContainer object of 10 artists>)"
      ]
     },
     "execution_count": 509,
     "metadata": {},
     "output_type": "execute_result"
    },
    {
     "data": {
      "image/png": "[encoded data removed]",
      "text/plain": [
       "<Figure size 432x288 with 1 Axes>"
      ]
     },
     "metadata": {
      "needs_background": "light"
     },
     "output_type": "display_data"
    }
   ],
   "source": [
    "plt.hist(data.width)"
   ]
  },
  {
   "cell_type": "code",
   "execution_count": 510,
   "id": "22460fae",
   "metadata": {},
   "outputs": [
    {
     "data": {
      "text/plain": [
       "ShapiroResult(statistic=0.9210780262947083, pvalue=5.012857240416224e-09)"
      ]
     },
     "execution_count": 510,
     "metadata": {},
     "output_type": "execute_result"
    }
   ],
   "source": [
    "stats.shapiro(data.width)"
   ]
  },
  {
   "cell_type": "markdown",
   "id": "098d50d7",
   "metadata": {},
   "source": [
    "<H6>\n",
    "The data is not normally distributed since the p value is less than the aplha value.\n",
    "<H6>"
   ]
  },
  {
   "cell_type": "markdown",
   "id": "621e7dc9",
   "metadata": {},
   "source": [
    "<H6>\n",
    "Column13:Height\n",
    "<H6>"
   ]
  },
  {
   "cell_type": "code",
   "execution_count": 511,
   "id": "a7f816d3",
   "metadata": {},
   "outputs": [
    {
     "data": {
      "text/plain": [
       "count    205.000000\n",
       "mean      53.724878\n",
       "std        2.443522\n",
       "min       47.800000\n",
       "25%       52.000000\n",
       "50%       54.100000\n",
       "75%       55.500000\n",
       "max       59.800000\n",
       "Name: height, dtype: float64"
      ]
     },
     "execution_count": 511,
     "metadata": {},
     "output_type": "execute_result"
    }
   ],
   "source": [
    "data.height.describe()"
   ]
  },
  {
   "cell_type": "code",
   "execution_count": 512,
   "id": "dfad5b09",
   "metadata": {},
   "outputs": [
    {
     "data": {
      "text/plain": [
       "0"
      ]
     },
     "execution_count": 512,
     "metadata": {},
     "output_type": "execute_result"
    }
   ],
   "source": [
    "data.height.isnull().sum()"
   ]
  },
  {
   "cell_type": "code",
   "execution_count": 513,
   "id": "c90f5923",
   "metadata": {},
   "outputs": [
    {
     "data": {
      "text/plain": [
       "array([48.8, 52.4, 54.3, 53.1, 55.7, 55.9, 52. , 53.7, 56.3, 53.2, 50.8,\n",
       "       50.6, 59.8, 50.2, 52.6, 54.5, 58.3, 53.3, 54.1, 51. , 53.5, 51.4,\n",
       "       52.8, 47.8, 49.6, 55.5, 54.4, 56.5, 58.7, 54.9, 56.7, 55.4, 54.8,\n",
       "       49.4, 51.6, 54.7, 55.1, 56.1, 49.7, 56. , 50.5, 55.2, 52.5, 53. ,\n",
       "       59.1, 53.9, 55.6, 56.2, 57.5])"
      ]
     },
     "execution_count": 513,
     "metadata": {},
     "output_type": "execute_result"
    }
   ],
   "source": [
    "data.height.unique()"
   ]
  },
  {
   "cell_type": "code",
   "execution_count": 514,
   "id": "62e512d4",
   "metadata": {},
   "outputs": [
    {
     "data": {
      "text/plain": [
       "{'whiskers': [<matplotlib.lines.Line2D at 0x11b2bdd90>,\n",
       "  <matplotlib.lines.Line2D at 0x11b2cf160>],\n",
       " 'caps': [<matplotlib.lines.Line2D at 0x11b2cf4f0>,\n",
       "  <matplotlib.lines.Line2D at 0x11b2cf880>],\n",
       " 'boxes': [<matplotlib.lines.Line2D at 0x11b2bda00>],\n",
       " 'medians': [<matplotlib.lines.Line2D at 0x11b2cfc10>],\n",
       " 'fliers': [<matplotlib.lines.Line2D at 0x11b2cffa0>],\n",
       " 'means': []}"
      ]
     },
     "execution_count": 514,
     "metadata": {},
     "output_type": "execute_result"
    },
    {
     "data": {
      "image/png": "[encoded data removed]",
      "text/plain": [
       "<Figure size 432x288 with 1 Axes>"
      ]
     },
     "metadata": {
      "needs_background": "light"
     },
     "output_type": "display_data"
    }
   ],
   "source": [
    "plt.boxplot(data.height)"
   ]
  },
  {
   "cell_type": "code",
   "execution_count": 515,
   "id": "bd6e39c4",
   "metadata": {},
   "outputs": [
    {
     "data": {
      "text/plain": [
       "(array([ 3.,  9., 28., 25., 33., 41., 38., 15.,  4.,  9.]),\n",
       " array([47.8, 49. , 50.2, 51.4, 52.6, 53.8, 55. , 56.2, 57.4, 58.6, 59.8]),\n",
       " <BarContainer object of 10 artists>)"
      ]
     },
     "execution_count": 515,
     "metadata": {},
     "output_type": "execute_result"
    },
    {
     "data": {
      "image/png": "[encoded data removed]",
      "text/plain": [
       "<Figure size 432x288 with 1 Axes>"
      ]
     },
     "metadata": {
      "needs_background": "light"
     },
     "output_type": "display_data"
    }
   ],
   "source": [
    "plt.hist(data.height)"
   ]
  },
  {
   "cell_type": "code",
   "execution_count": 516,
   "id": "ffab31b8",
   "metadata": {},
   "outputs": [
    {
     "data": {
      "text/plain": [
       "ShapiroResult(statistic=0.9842321276664734, pvalue=0.021682262420654297)"
      ]
     },
     "execution_count": 516,
     "metadata": {},
     "output_type": "execute_result"
    }
   ],
   "source": [
    "stats.shapiro(data.height)"
   ]
  },
  {
   "cell_type": "markdown",
   "id": "15e8aa93",
   "metadata": {},
   "source": [
    "<H6>\n",
    "The data is not normally distributed since the p value is less than the alpha level.\n",
    "<H6>"
   ]
  },
  {
   "cell_type": "markdown",
   "id": "189182b9",
   "metadata": {},
   "source": [
    "<H6>\n",
    "Column14:Curb Weight\n",
    "<H6>"
   ]
  },
  {
   "cell_type": "code",
   "execution_count": 517,
   "id": "b9ef2a37",
   "metadata": {},
   "outputs": [
    {
     "data": {
      "text/plain": [
       "count     205.000000\n",
       "mean     2555.565854\n",
       "std       520.680204\n",
       "min      1488.000000\n",
       "25%      2145.000000\n",
       "50%      2414.000000\n",
       "75%      2935.000000\n",
       "max      4066.000000\n",
       "Name: curb_weight, dtype: float64"
      ]
     },
     "execution_count": 517,
     "metadata": {},
     "output_type": "execute_result"
    }
   ],
   "source": [
    "data.curb_weight.describe()"
   ]
  },
  {
   "cell_type": "code",
   "execution_count": 518,
   "id": "9d9242d5",
   "metadata": {},
   "outputs": [
    {
     "data": {
      "text/plain": [
       "0"
      ]
     },
     "execution_count": 518,
     "metadata": {},
     "output_type": "execute_result"
    }
   ],
   "source": [
    "data.curb_weight.isnull().sum()"
   ]
  },
  {
   "cell_type": "code",
   "execution_count": 519,
   "id": "fb3f94cd",
   "metadata": {},
   "outputs": [
    {
     "data": {
      "text/plain": [
       "array([2548, 2823, 2337, 2824, 2507, 2844, 2954, 3086, 3053, 2395, 2710,\n",
       "       2765, 3055, 3230, 3380, 3505, 1488, 1874, 1909, 1876, 2128, 1967,\n",
       "       1989, 2191, 2535, 2811, 1713, 1819, 1837, 1940, 1956, 2010, 2024,\n",
       "       2236, 2289, 2304, 2372, 2465, 2293, 2734, 4066, 3950, 1890, 1900,\n",
       "       1905, 1945, 1950, 2380, 2385, 2500, 2410, 2443, 2425, 2670, 2700,\n",
       "       3515, 3750, 3495, 3770, 3740, 3685, 3900, 3715, 2910, 1918, 1944,\n",
       "       2004, 2145, 2370, 2328, 2833, 2921, 2926, 2365, 2405, 2403, 1889,\n",
       "       2017, 1938, 1951, 2028, 1971, 2037, 2008, 2324, 2302, 3095, 3296,\n",
       "       3060, 3071, 3139, 3020, 3197, 3430, 3075, 3252, 3285, 3485, 3130,\n",
       "       2818, 2778, 2756, 2800, 3366, 2579, 2460, 2658, 2695, 2707, 2758,\n",
       "       2808, 2847, 2050, 2120, 2240, 2190, 2340, 2510, 2290, 2455, 2420,\n",
       "       2650, 1985, 2040, 2015, 2280, 3110, 2081, 2109, 2275, 2094, 2122,\n",
       "       2140, 2169, 2204, 2265, 2300, 2540, 2536, 2551, 2679, 2714, 2975,\n",
       "       2326, 2480, 2414, 2458, 2976, 3016, 3131, 3151, 2261, 2209, 2264,\n",
       "       2212, 2319, 2254, 2221, 2661, 2563, 2912, 3034, 2935, 3042, 3045,\n",
       "       3157, 2952, 3049, 3012, 3217, 3062], dtype=int64)"
      ]
     },
     "execution_count": 519,
     "metadata": {},
     "output_type": "execute_result"
    }
   ],
   "source": [
    "data.curb_weight.unique()"
   ]
  },
  {
   "cell_type": "code",
   "execution_count": 520,
   "id": "fc938884",
   "metadata": {},
   "outputs": [
    {
     "data": {
      "text/plain": [
       "{'whiskers': [<matplotlib.lines.Line2D at 0x11b393220>,\n",
       "  <matplotlib.lines.Line2D at 0x11b3935b0>],\n",
       " 'caps': [<matplotlib.lines.Line2D at 0x11b393940>,\n",
       "  <matplotlib.lines.Line2D at 0x11b393cd0>],\n",
       " 'boxes': [<matplotlib.lines.Line2D at 0x11b388e50>],\n",
       " 'medians': [<matplotlib.lines.Line2D at 0x11b39d0a0>],\n",
       " 'fliers': [<matplotlib.lines.Line2D at 0x11b39d430>],\n",
       " 'means': []}"
      ]
     },
     "execution_count": 520,
     "metadata": {},
     "output_type": "execute_result"
    },
    {
     "data": {
      "image/png": "[encoded data removed]",
      "text/plain": [
       "<Figure size 432x288 with 1 Axes>"
      ]
     },
     "metadata": {
      "needs_background": "light"
     },
     "output_type": "display_data"
    }
   ],
   "source": [
    "plt.boxplot(data.curb_weight)"
   ]
  },
  {
   "cell_type": "code",
   "execution_count": 521,
   "id": "2787891d",
   "metadata": {},
   "outputs": [
    {
     "data": {
      "text/plain": [
       "(array([ 2., 29., 33., 50., 25., 23., 26.,  8.,  5.,  4.]),\n",
       " array([1488. , 1745.8, 2003.6, 2261.4, 2519.2, 2777. , 3034.8, 3292.6,\n",
       "        3550.4, 3808.2, 4066. ]),\n",
       " <BarContainer object of 10 artists>)"
      ]
     },
     "execution_count": 521,
     "metadata": {},
     "output_type": "execute_result"
    },
    {
     "data": {
      "image/png": "[encoded data removed]",
      "text/plain": [
       "<Figure size 432x288 with 1 Axes>"
      ]
     },
     "metadata": {
      "needs_background": "light"
     },
     "output_type": "display_data"
    }
   ],
   "source": [
    "plt.hist(data.curb_weight)\n"
   ]
  },
  {
   "cell_type": "code",
   "execution_count": 522,
   "id": "4a9a21b5",
   "metadata": {},
   "outputs": [
    {
     "data": {
      "text/plain": [
       "ShapiroResult(statistic=0.9530424475669861, pvalue=2.8916113024024526e-06)"
      ]
     },
     "execution_count": 522,
     "metadata": {},
     "output_type": "execute_result"
    }
   ],
   "source": [
    "stats.shapiro(data.curb_weight)"
   ]
  },
  {
   "cell_type": "markdown",
   "id": "15184937",
   "metadata": {},
   "source": [
    "<H6>\n",
    "The data is not normally distributed since the p value is less than the alpha value.\n",
    "<H6>"
   ]
  },
  {
   "cell_type": "markdown",
   "id": "54d325ca",
   "metadata": {},
   "source": [
    "<H6>\n",
    "Column15:Engine Type\n",
    "<H6>"
   ]
  },
  {
   "cell_type": "code",
   "execution_count": 523,
   "id": "e467afcd",
   "metadata": {},
   "outputs": [
    {
     "data": {
      "text/plain": [
       "count     205\n",
       "unique      7\n",
       "top       ohc\n",
       "freq      148\n",
       "Name: engine_type, dtype: object"
      ]
     },
     "execution_count": 523,
     "metadata": {},
     "output_type": "execute_result"
    }
   ],
   "source": [
    "data.engine_type.describe()"
   ]
  },
  {
   "cell_type": "code",
   "execution_count": 524,
   "id": "71ab4ff7",
   "metadata": {},
   "outputs": [
    {
     "data": {
      "text/plain": [
       "ohc      148\n",
       "ohcf      15\n",
       "ohcv      13\n",
       "dohc      12\n",
       "l         12\n",
       "rotor      4\n",
       "dohcv      1\n",
       "Name: engine_type, dtype: int64"
      ]
     },
     "execution_count": 524,
     "metadata": {},
     "output_type": "execute_result"
    }
   ],
   "source": [
    "data.engine_type.value_counts()"
   ]
  },
  {
   "cell_type": "code",
   "execution_count": 525,
   "id": "4011ead8",
   "metadata": {},
   "outputs": [
    {
     "data": {
      "text/plain": [
       "0"
      ]
     },
     "execution_count": 525,
     "metadata": {},
     "output_type": "execute_result"
    }
   ],
   "source": [
    "data.engine_type.isnull().sum()"
   ]
  },
  {
   "cell_type": "code",
   "execution_count": 526,
   "id": "271e2296",
   "metadata": {},
   "outputs": [
    {
     "data": {
      "text/plain": [
       "array(['dohc', 'ohcv', 'ohc', 'l', 'rotor', 'ohcf', 'dohcv'], dtype=object)"
      ]
     },
     "execution_count": 526,
     "metadata": {},
     "output_type": "execute_result"
    }
   ],
   "source": [
    "data.engine_type.unique()"
   ]
  },
  {
   "cell_type": "code",
   "execution_count": 527,
   "id": "93764460",
   "metadata": {},
   "outputs": [
    {
     "name": "stderr",
     "output_type": "stream",
     "text": [
      "F:\\Anaconda\\lib\\site-packages\\seaborn\\_decorators.py:36: FutureWarning: Pass the following variable as a keyword arg: x. From version 0.12, the only valid positional argument will be `data`, and passing other arguments without an explicit keyword will result in an error or misinterpretation.\n",
      "  warnings.warn(\n"
     ]
    },
    {
     "data": {
      "text/plain": [
       "<AxesSubplot:xlabel='engine_type', ylabel='count'>"
      ]
     },
     "execution_count": 527,
     "metadata": {},
     "output_type": "execute_result"
    },
    {
     "data": {
      "image/png": "[encoded data removed]",
      "text/plain": [
       "<Figure size 432x288 with 1 Axes>"
      ]
     },
     "metadata": {
      "needs_background": "light"
     },
     "output_type": "display_data"
    }
   ],
   "source": [
    "sns.countplot(data.engine_type)"
   ]
  },
  {
   "cell_type": "markdown",
   "id": "92c29680",
   "metadata": {},
   "source": [
    "<H6>\n",
    "Column16:Number Of Cylinders\n",
    "<H6>"
   ]
  },
  {
   "cell_type": "code",
   "execution_count": 528,
   "id": "fc03581e",
   "metadata": {},
   "outputs": [
    {
     "data": {
      "text/plain": [
       "count      205\n",
       "unique       7\n",
       "top       four\n",
       "freq       159\n",
       "Name: no_cyl, dtype: object"
      ]
     },
     "execution_count": 528,
     "metadata": {},
     "output_type": "execute_result"
    }
   ],
   "source": [
    "data.no_cyl.describe()"
   ]
  },
  {
   "cell_type": "code",
   "execution_count": 529,
   "id": "f6a2a69e",
   "metadata": {},
   "outputs": [
    {
     "data": {
      "text/plain": [
       "four      159\n",
       "six        24\n",
       "five       11\n",
       "eight       5\n",
       "two         4\n",
       "three       1\n",
       "twelve      1\n",
       "Name: no_cyl, dtype: int64"
      ]
     },
     "execution_count": 529,
     "metadata": {},
     "output_type": "execute_result"
    }
   ],
   "source": [
    "data.no_cyl.value_counts()"
   ]
  },
  {
   "cell_type": "code",
   "execution_count": 530,
   "id": "b8572ad2",
   "metadata": {},
   "outputs": [
    {
     "data": {
      "text/plain": [
       "0"
      ]
     },
     "execution_count": 530,
     "metadata": {},
     "output_type": "execute_result"
    }
   ],
   "source": [
    "data.no_cyl.isnull().sum()"
   ]
  },
  {
   "cell_type": "code",
   "execution_count": 531,
   "id": "8f48dad7",
   "metadata": {},
   "outputs": [
    {
     "data": {
      "text/plain": [
       "array(['four', 'six', 'five', 'three', 'twelve', 'two', 'eight'],\n",
       "      dtype=object)"
      ]
     },
     "execution_count": 531,
     "metadata": {},
     "output_type": "execute_result"
    }
   ],
   "source": [
    "data.no_cyl.unique()"
   ]
  },
  {
   "cell_type": "code",
   "execution_count": 532,
   "id": "6b1bf543",
   "metadata": {},
   "outputs": [
    {
     "name": "stderr",
     "output_type": "stream",
     "text": [
      "F:\\Anaconda\\lib\\site-packages\\seaborn\\_decorators.py:36: FutureWarning: Pass the following variable as a keyword arg: x. From version 0.12, the only valid positional argument will be `data`, and passing other arguments without an explicit keyword will result in an error or misinterpretation.\n",
      "  warnings.warn(\n"
     ]
    },
    {
     "data": {
      "text/plain": [
       "<AxesSubplot:xlabel='no_cyl', ylabel='count'>"
      ]
     },
     "execution_count": 532,
     "metadata": {},
     "output_type": "execute_result"
    },
    {
     "data": {
      "image/png": "[encoded data removed]",
      "text/plain": [
       "<Figure size 432x288 with 1 Axes>"
      ]
     },
     "metadata": {
      "needs_background": "light"
     },
     "output_type": "display_data"
    }
   ],
   "source": [
    "sns.countplot(data.no_cyl)"
   ]
  },
  {
   "cell_type": "code",
   "execution_count": 533,
   "id": "3e9332fe",
   "metadata": {},
   "outputs": [],
   "source": [
    "data.no_cyl.replace(['three','two','five','four','six','eight','twelve'],['less than five','less than five','five','four','six','>=eight','>=eight'],inplace=True)"
   ]
  },
  {
   "cell_type": "code",
   "execution_count": 534,
   "id": "7c559cd8",
   "metadata": {},
   "outputs": [
    {
     "name": "stderr",
     "output_type": "stream",
     "text": [
      "F:\\Anaconda\\lib\\site-packages\\seaborn\\_decorators.py:36: FutureWarning: Pass the following variable as a keyword arg: x. From version 0.12, the only valid positional argument will be `data`, and passing other arguments without an explicit keyword will result in an error or misinterpretation.\n",
      "  warnings.warn(\n"
     ]
    },
    {
     "data": {
      "text/plain": [
       "<AxesSubplot:xlabel='no_cyl', ylabel='count'>"
      ]
     },
     "execution_count": 534,
     "metadata": {},
     "output_type": "execute_result"
    },
    {
     "data": {
      "image/png": "[encoded data removed]",
      "text/plain": [
       "<Figure size 432x288 with 1 Axes>"
      ]
     },
     "metadata": {
      "needs_background": "light"
     },
     "output_type": "display_data"
    }
   ],
   "source": [
    "sns.countplot(data.no_cyl)"
   ]
  },
  {
   "cell_type": "markdown",
   "id": "4dc698c7",
   "metadata": {},
   "source": [
    "<H6>\n",
    "Column17:Engine Size\n",
    "<H6>\n"
   ]
  },
  {
   "cell_type": "code",
   "execution_count": 535,
   "id": "ec721268",
   "metadata": {},
   "outputs": [
    {
     "data": {
      "text/plain": [
       "count    205.000000\n",
       "mean     126.907317\n",
       "std       41.642693\n",
       "min       61.000000\n",
       "25%       97.000000\n",
       "50%      120.000000\n",
       "75%      141.000000\n",
       "max      326.000000\n",
       "Name: engine_size, dtype: float64"
      ]
     },
     "execution_count": 535,
     "metadata": {},
     "output_type": "execute_result"
    }
   ],
   "source": [
    "data.engine_size.describe()"
   ]
  },
  {
   "cell_type": "code",
   "execution_count": 536,
   "id": "f3104555",
   "metadata": {},
   "outputs": [
    {
     "data": {
      "text/plain": [
       "122    15\n",
       "92     15\n",
       "97     14\n",
       "98     14\n",
       "108    13\n",
       "90     12\n",
       "110    12\n",
       "109     8\n",
       "120     7\n",
       "141     7\n",
       "152     6\n",
       "181     6\n",
       "146     6\n",
       "121     6\n",
       "156     5\n",
       "136     5\n",
       "91      5\n",
       "183     4\n",
       "130     4\n",
       "171     3\n",
       "70      3\n",
       "194     3\n",
       "209     3\n",
       "164     3\n",
       "258     2\n",
       "140     2\n",
       "134     2\n",
       "234     2\n",
       "132     2\n",
       "131     2\n",
       "173     1\n",
       "203     1\n",
       "161     1\n",
       "80      1\n",
       "151     1\n",
       "103     1\n",
       "304     1\n",
       "308     1\n",
       "326     1\n",
       "119     1\n",
       "111     1\n",
       "79      1\n",
       "61      1\n",
       "145     1\n",
       "Name: engine_size, dtype: int64"
      ]
     },
     "execution_count": 536,
     "metadata": {},
     "output_type": "execute_result"
    }
   ],
   "source": [
    "data.engine_size.value_counts()"
   ]
  },
  {
   "cell_type": "code",
   "execution_count": null,
   "id": "c998cbf6",
   "metadata": {},
   "outputs": [],
   "source": []
  },
  {
   "cell_type": "code",
   "execution_count": 537,
   "id": "cf80cbb6",
   "metadata": {},
   "outputs": [
    {
     "data": {
      "text/plain": [
       "0"
      ]
     },
     "execution_count": 537,
     "metadata": {},
     "output_type": "execute_result"
    }
   ],
   "source": [
    "data.engine_size.isnull().sum()"
   ]
  },
  {
   "cell_type": "code",
   "execution_count": 538,
   "id": "b9f7cb99",
   "metadata": {},
   "outputs": [
    {
     "data": {
      "text/plain": [
       "array([130, 152, 109, 136, 131, 108, 164, 209,  61,  90,  98, 122, 156,\n",
       "        92,  79, 110, 111, 119, 258, 326,  91,  70,  80, 140, 134, 183,\n",
       "       234, 308, 304,  97, 103, 120, 181, 151, 194, 203, 132, 121, 146,\n",
       "       171, 161, 141, 173, 145], dtype=int64)"
      ]
     },
     "execution_count": 538,
     "metadata": {},
     "output_type": "execute_result"
    }
   ],
   "source": [
    "data.engine_size.unique()"
   ]
  },
  {
   "cell_type": "code",
   "execution_count": 539,
   "id": "154c3139",
   "metadata": {},
   "outputs": [
    {
     "data": {
      "text/plain": [
       "{'whiskers': [<matplotlib.lines.Line2D at 0x11b5af940>,\n",
       "  <matplotlib.lines.Line2D at 0x11b5afcd0>],\n",
       " 'caps': [<matplotlib.lines.Line2D at 0x11b5bb0a0>,\n",
       "  <matplotlib.lines.Line2D at 0x11b5bb430>],\n",
       " 'boxes': [<matplotlib.lines.Line2D at 0x11b5af5b0>],\n",
       " 'medians': [<matplotlib.lines.Line2D at 0x11b5bb7c0>],\n",
       " 'fliers': [<matplotlib.lines.Line2D at 0x11b5bbb50>],\n",
       " 'means': []}"
      ]
     },
     "execution_count": 539,
     "metadata": {},
     "output_type": "execute_result"
    },
    {
     "data": {
      "image/png": "[encoded data removed]",
      "text/plain": [
       "<Figure size 432x288 with 1 Axes>"
      ]
     },
     "metadata": {
      "needs_background": "light"
     },
     "output_type": "display_data"
    }
   ],
   "source": [
    "plt.boxplot(data.engine_size)"
   ]
  },
  {
   "cell_type": "code",
   "execution_count": 540,
   "id": "51447dcb",
   "metadata": {},
   "outputs": [
    {
     "data": {
      "text/plain": [
       "(array([ 6., 95., 46., 30., 14.,  7.,  2.,  2.,  0.,  3.]),\n",
       " array([ 61. ,  87.5, 114. , 140.5, 167. , 193.5, 220. , 246.5, 273. ,\n",
       "        299.5, 326. ]),\n",
       " <BarContainer object of 10 artists>)"
      ]
     },
     "execution_count": 540,
     "metadata": {},
     "output_type": "execute_result"
    },
    {
     "data": {
      "image/png": "[encoded data removed]",
      "text/plain": [
       "<Figure size 432x288 with 1 Axes>"
      ]
     },
     "metadata": {
      "needs_background": "light"
     },
     "output_type": "display_data"
    }
   ],
   "source": [
    "plt.hist(data.engine_size)"
   ]
  },
  {
   "cell_type": "code",
   "execution_count": 541,
   "id": "88398704",
   "metadata": {},
   "outputs": [
    {
     "data": {
      "text/plain": [
       "ShapiroResult(statistic=0.8294388651847839, pvalue=3.0569154792128156e-14)"
      ]
     },
     "execution_count": 541,
     "metadata": {},
     "output_type": "execute_result"
    }
   ],
   "source": [
    "stats.shapiro(data.engine_size)"
   ]
  },
  {
   "cell_type": "markdown",
   "id": "6452def5",
   "metadata": {},
   "source": [
    "<H6>\n",
    "The data is not distributed normally since the p value is less than the aplha value.\n",
    "<h6>"
   ]
  },
  {
   "cell_type": "markdown",
   "id": "359967f5",
   "metadata": {},
   "source": [
    "<H6>\n",
    "Column18:Fuel System\n",
    "<H6>"
   ]
  },
  {
   "cell_type": "code",
   "execution_count": 542,
   "id": "f6d81bb0",
   "metadata": {},
   "outputs": [
    {
     "data": {
      "text/plain": [
       "count      205\n",
       "unique       8\n",
       "top       mpfi\n",
       "freq        94\n",
       "Name: fuel_system, dtype: object"
      ]
     },
     "execution_count": 542,
     "metadata": {},
     "output_type": "execute_result"
    }
   ],
   "source": [
    "data.fuel_system.describe()"
   ]
  },
  {
   "cell_type": "code",
   "execution_count": 543,
   "id": "ff96a1d1",
   "metadata": {},
   "outputs": [
    {
     "data": {
      "text/plain": [
       "mpfi    94\n",
       "2bbl    66\n",
       "idi     20\n",
       "1bbl    11\n",
       "spdi     9\n",
       "4bbl     3\n",
       "mfi      1\n",
       "spfi     1\n",
       "Name: fuel_system, dtype: int64"
      ]
     },
     "execution_count": 543,
     "metadata": {},
     "output_type": "execute_result"
    }
   ],
   "source": [
    "data.fuel_system.value_counts()"
   ]
  },
  {
   "cell_type": "code",
   "execution_count": 544,
   "id": "172c3507",
   "metadata": {},
   "outputs": [
    {
     "data": {
      "text/plain": [
       "0"
      ]
     },
     "execution_count": 544,
     "metadata": {},
     "output_type": "execute_result"
    }
   ],
   "source": [
    "data.fuel_system.isnull().sum()"
   ]
  },
  {
   "cell_type": "code",
   "execution_count": 545,
   "id": "f0076954",
   "metadata": {},
   "outputs": [
    {
     "data": {
      "text/plain": [
       "array(['mpfi', '2bbl', 'mfi', '1bbl', 'spfi', '4bbl', 'idi', 'spdi'],\n",
       "      dtype=object)"
      ]
     },
     "execution_count": 545,
     "metadata": {},
     "output_type": "execute_result"
    }
   ],
   "source": [
    "data.fuel_system.unique()"
   ]
  },
  {
   "cell_type": "code",
   "execution_count": 546,
   "id": "6ad31d38",
   "metadata": {},
   "outputs": [
    {
     "name": "stderr",
     "output_type": "stream",
     "text": [
      "F:\\Anaconda\\lib\\site-packages\\seaborn\\_decorators.py:36: FutureWarning: Pass the following variable as a keyword arg: x. From version 0.12, the only valid positional argument will be `data`, and passing other arguments without an explicit keyword will result in an error or misinterpretation.\n",
      "  warnings.warn(\n"
     ]
    },
    {
     "data": {
      "text/plain": [
       "<AxesSubplot:xlabel='fuel_system', ylabel='count'>"
      ]
     },
     "execution_count": 546,
     "metadata": {},
     "output_type": "execute_result"
    },
    {
     "data": {
      "image/png": "[encoded data removed]",
      "text/plain": [
       "<Figure size 432x288 with 1 Axes>"
      ]
     },
     "metadata": {
      "needs_background": "light"
     },
     "output_type": "display_data"
    }
   ],
   "source": [
    "sns.countplot(data.fuel_system)"
   ]
  },
  {
   "cell_type": "markdown",
   "id": "fd7fe6bb",
   "metadata": {},
   "source": [
    "<H6>\n",
    "Column19:Bore\n",
    "<H6>"
   ]
  },
  {
   "cell_type": "code",
   "execution_count": 547,
   "id": "e18a9838",
   "metadata": {},
   "outputs": [
    {
     "data": {
      "text/plain": [
       "count    201.000000\n",
       "mean       3.329751\n",
       "std        0.273539\n",
       "min        2.540000\n",
       "25%        3.150000\n",
       "50%        3.310000\n",
       "75%        3.590000\n",
       "max        3.940000\n",
       "Name: bore, dtype: float64"
      ]
     },
     "execution_count": 547,
     "metadata": {},
     "output_type": "execute_result"
    }
   ],
   "source": [
    "data.bore.describe()"
   ]
  },
  {
   "cell_type": "code",
   "execution_count": 548,
   "id": "89969b3d",
   "metadata": {},
   "outputs": [
    {
     "data": {
      "text/plain": [
       "4"
      ]
     },
     "execution_count": 548,
     "metadata": {},
     "output_type": "execute_result"
    }
   ],
   "source": [
    "data.bore.isnull().sum()"
   ]
  },
  {
   "cell_type": "code",
   "execution_count": 549,
   "id": "31084556",
   "metadata": {},
   "outputs": [],
   "source": [
    "data.bore.fillna(3.329751,inplace=True)"
   ]
  },
  {
   "cell_type": "code",
   "execution_count": 550,
   "id": "14276a12",
   "metadata": {},
   "outputs": [
    {
     "data": {
      "text/plain": [
       "0"
      ]
     },
     "execution_count": 550,
     "metadata": {},
     "output_type": "execute_result"
    }
   ],
   "source": [
    "data.bore.isnull().sum()"
   ]
  },
  {
   "cell_type": "code",
   "execution_count": 551,
   "id": "83a970e0",
   "metadata": {},
   "outputs": [
    {
     "data": {
      "text/plain": [
       "array([3.47    , 2.68    , 3.19    , 3.13    , 3.5     , 3.31    ,\n",
       "       3.62    , 2.91    , 3.03    , 2.97    , 3.34    , 3.6     ,\n",
       "       2.92    , 3.15    , 3.43    , 3.63    , 3.54    , 3.08    ,\n",
       "       3.329751, 3.39    , 3.76    , 3.58    , 3.46    , 3.8     ,\n",
       "       3.78    , 3.17    , 3.35    , 3.59    , 2.99    , 3.33    ,\n",
       "       3.7     , 3.61    , 3.94    , 3.74    , 2.54    , 3.05    ,\n",
       "       3.27    , 3.24    , 3.01    ])"
      ]
     },
     "execution_count": 551,
     "metadata": {},
     "output_type": "execute_result"
    }
   ],
   "source": [
    "data.bore.unique()"
   ]
  },
  {
   "cell_type": "code",
   "execution_count": 552,
   "id": "29c77a6a",
   "metadata": {},
   "outputs": [
    {
     "data": {
      "text/plain": [
       "{'whiskers': [<matplotlib.lines.Line2D at 0x11b6f8ac0>,\n",
       "  <matplotlib.lines.Line2D at 0x11b6f8e50>],\n",
       " 'caps': [<matplotlib.lines.Line2D at 0x11b708220>,\n",
       "  <matplotlib.lines.Line2D at 0x11b7085b0>],\n",
       " 'boxes': [<matplotlib.lines.Line2D at 0x11b6f8730>],\n",
       " 'medians': [<matplotlib.lines.Line2D at 0x11b708940>],\n",
       " 'fliers': [<matplotlib.lines.Line2D at 0x11b708cd0>],\n",
       " 'means': []}"
      ]
     },
     "execution_count": 552,
     "metadata": {},
     "output_type": "execute_result"
    },
    {
     "data": {
      "image/png": "[encoded data removed]",
      "text/plain": [
       "<Figure size 432x288 with 1 Axes>"
      ]
     },
     "metadata": {
      "needs_background": "light"
     },
     "output_type": "display_data"
    }
   ],
   "source": [
    "plt.boxplot(data.bore)"
   ]
  },
  {
   "cell_type": "code",
   "execution_count": 553,
   "id": "424c08bb",
   "metadata": {},
   "outputs": [
    {
     "data": {
      "text/plain": [
       "(array([ 1.,  1.,  8., 37., 40., 28., 27., 42., 17.,  4.]),\n",
       " array([2.54, 2.68, 2.82, 2.96, 3.1 , 3.24, 3.38, 3.52, 3.66, 3.8 , 3.94]),\n",
       " <BarContainer object of 10 artists>)"
      ]
     },
     "execution_count": 553,
     "metadata": {},
     "output_type": "execute_result"
    },
    {
     "data": {
      "image/png": "[encoded data removed]",
      "text/plain": [
       "<Figure size 432x288 with 1 Axes>"
      ]
     },
     "metadata": {
      "needs_background": "light"
     },
     "output_type": "display_data"
    }
   ],
   "source": [
    "plt.hist(data.bore)"
   ]
  },
  {
   "cell_type": "code",
   "execution_count": 554,
   "id": "e3d13980",
   "metadata": {},
   "outputs": [
    {
     "data": {
      "text/plain": [
       "ShapiroResult(statistic=0.967185378074646, pvalue=0.00010421191109344363)"
      ]
     },
     "execution_count": 554,
     "metadata": {},
     "output_type": "execute_result"
    }
   ],
   "source": [
    "stats.shapiro(data.bore)"
   ]
  },
  {
   "cell_type": "markdown",
   "id": "513e9ba5",
   "metadata": {},
   "source": [
    "<H6>\n",
    "The data is not normally distributed since the pvalue is less than aplha value.\n",
    "<H6>"
   ]
  },
  {
   "cell_type": "markdown",
   "id": "3ee95d21",
   "metadata": {},
   "source": [
    "<H6>\n",
    "Column20:Stroke\n",
    "<H6>"
   ]
  },
  {
   "cell_type": "code",
   "execution_count": 555,
   "id": "0df1f08c",
   "metadata": {},
   "outputs": [
    {
     "data": {
      "text/plain": [
       "count    201.000000\n",
       "mean       3.255423\n",
       "std        0.316717\n",
       "min        2.070000\n",
       "25%        3.110000\n",
       "50%        3.290000\n",
       "75%        3.410000\n",
       "max        4.170000\n",
       "Name: stroke, dtype: float64"
      ]
     },
     "execution_count": 555,
     "metadata": {},
     "output_type": "execute_result"
    }
   ],
   "source": [
    "data.stroke.describe()"
   ]
  },
  {
   "cell_type": "code",
   "execution_count": 556,
   "id": "2235ff79",
   "metadata": {},
   "outputs": [
    {
     "data": {
      "text/plain": [
       "4"
      ]
     },
     "execution_count": 556,
     "metadata": {},
     "output_type": "execute_result"
    }
   ],
   "source": [
    "data.stroke.isnull().sum()"
   ]
  },
  {
   "cell_type": "code",
   "execution_count": 557,
   "id": "fb10a0bb",
   "metadata": {},
   "outputs": [],
   "source": [
    "data.stroke.fillna(3.255423,inplace=True)"
   ]
  },
  {
   "cell_type": "code",
   "execution_count": 558,
   "id": "feb23d90",
   "metadata": {},
   "outputs": [
    {
     "data": {
      "text/plain": [
       "0"
      ]
     },
     "execution_count": 558,
     "metadata": {},
     "output_type": "execute_result"
    }
   ],
   "source": [
    "data.stroke.isnull().sum()"
   ]
  },
  {
   "cell_type": "code",
   "execution_count": 559,
   "id": "af741a51",
   "metadata": {},
   "outputs": [
    {
     "data": {
      "text/plain": [
       "array([2.68    , 3.47    , 3.4     , 2.8     , 3.19    , 3.39    ,\n",
       "       3.03    , 3.11    , 3.23    , 3.46    , 3.9     , 3.41    ,\n",
       "       3.07    , 3.58    , 4.17    , 2.76    , 3.15    , 3.255423,\n",
       "       3.16    , 3.64    , 3.1     , 3.35    , 3.12    , 3.86    ,\n",
       "       3.29    , 3.27    , 3.52    , 2.19    , 3.21    , 2.9     ,\n",
       "       2.07    , 2.36    , 2.64    , 3.08    , 3.5     , 3.54    ,\n",
       "       2.87    ])"
      ]
     },
     "execution_count": 559,
     "metadata": {},
     "output_type": "execute_result"
    }
   ],
   "source": [
    "data.stroke.unique()"
   ]
  },
  {
   "cell_type": "code",
   "execution_count": 560,
   "id": "109e7cf3",
   "metadata": {},
   "outputs": [
    {
     "data": {
      "text/plain": [
       "{'whiskers': [<matplotlib.lines.Line2D at 0x1192f6ee0>,\n",
       "  <matplotlib.lines.Line2D at 0x1193032b0>],\n",
       " 'caps': [<matplotlib.lines.Line2D at 0x119303640>,\n",
       "  <matplotlib.lines.Line2D at 0x1193039d0>],\n",
       " 'boxes': [<matplotlib.lines.Line2D at 0x1192f6b50>],\n",
       " 'medians': [<matplotlib.lines.Line2D at 0x119303d60>],\n",
       " 'fliers': [<matplotlib.lines.Line2D at 0x119310130>],\n",
       " 'means': []}"
      ]
     },
     "execution_count": 560,
     "metadata": {},
     "output_type": "execute_result"
    },
    {
     "data": {
      "image/png": "[encoded data removed]",
      "text/plain": [
       "<Figure size 432x288 with 1 Axes>"
      ]
     },
     "metadata": {
      "needs_background": "light"
     },
     "output_type": "display_data"
    }
   ],
   "source": [
    "plt.boxplot(data.stroke)"
   ]
  },
  {
   "cell_type": "code",
   "execution_count": 561,
   "id": "01f291ba",
   "metadata": {},
   "outputs": [
    {
     "data": {
      "text/plain": [
       "(array([ 3.,  1., 13.,  7., 30., 56., 71., 15.,  7.,  2.]),\n",
       " array([2.07, 2.28, 2.49, 2.7 , 2.91, 3.12, 3.33, 3.54, 3.75, 3.96, 4.17]),\n",
       " <BarContainer object of 10 artists>)"
      ]
     },
     "execution_count": 561,
     "metadata": {},
     "output_type": "execute_result"
    },
    {
     "data": {
      "image/png": "[encoded data removed]",
      "text/plain": [
       "<Figure size 432x288 with 1 Axes>"
      ]
     },
     "metadata": {
      "needs_background": "light"
     },
     "output_type": "display_data"
    }
   ],
   "source": [
    "plt.hist(data.stroke)"
   ]
  },
  {
   "cell_type": "code",
   "execution_count": 562,
   "id": "6f0700c8",
   "metadata": {},
   "outputs": [
    {
     "data": {
      "text/plain": [
       "ShapiroResult(statistic=0.9377973675727844, pvalue=1.0984009435333064e-07)"
      ]
     },
     "execution_count": 562,
     "metadata": {},
     "output_type": "execute_result"
    }
   ],
   "source": [
    "stats.shapiro(data.stroke)"
   ]
  },
  {
   "cell_type": "markdown",
   "id": "71eaa0ea",
   "metadata": {},
   "source": [
    "<H6>\n",
    "The data is not normally distributed since the pvalue is less than alpha value.\n",
    "<H6>"
   ]
  },
  {
   "cell_type": "markdown",
   "id": "12c3a31c",
   "metadata": {},
   "source": [
    "<H6>\n",
    "Column21:Compression Ratio\n",
    "<H6>"
   ]
  },
  {
   "cell_type": "code",
   "execution_count": 563,
   "id": "5098134b",
   "metadata": {},
   "outputs": [
    {
     "data": {
      "text/plain": [
       "count    205.000000\n",
       "mean      10.142537\n",
       "std        3.972040\n",
       "min        7.000000\n",
       "25%        8.600000\n",
       "50%        9.000000\n",
       "75%        9.400000\n",
       "max       23.000000\n",
       "Name: com_ratio, dtype: float64"
      ]
     },
     "execution_count": 563,
     "metadata": {},
     "output_type": "execute_result"
    }
   ],
   "source": [
    "data.com_ratio.describe()"
   ]
  },
  {
   "cell_type": "code",
   "execution_count": 564,
   "id": "8aac3516",
   "metadata": {},
   "outputs": [
    {
     "data": {
      "text/plain": [
       "0"
      ]
     },
     "execution_count": 564,
     "metadata": {},
     "output_type": "execute_result"
    }
   ],
   "source": [
    "data.com_ratio.isnull().sum()"
   ]
  },
  {
   "cell_type": "code",
   "execution_count": 565,
   "id": "4868a4a9",
   "metadata": {},
   "outputs": [
    {
     "data": {
      "text/plain": [
       "array([ 9.  , 10.  ,  8.  ,  8.5 ,  8.3 ,  7.  ,  8.8 ,  9.5 ,  9.6 ,\n",
       "        9.41,  9.4 ,  7.6 ,  9.2 , 10.1 ,  9.1 ,  8.1 , 11.5 ,  8.6 ,\n",
       "       22.7 , 22.  , 21.5 ,  7.5 , 21.9 ,  7.8 ,  8.4 , 21.  ,  8.7 ,\n",
       "        9.31,  9.3 ,  7.7 , 22.5 , 23.  ])"
      ]
     },
     "execution_count": 565,
     "metadata": {},
     "output_type": "execute_result"
    }
   ],
   "source": [
    "data.com_ratio.unique()"
   ]
  },
  {
   "cell_type": "code",
   "execution_count": 566,
   "id": "68ca9b06",
   "metadata": {},
   "outputs": [],
   "source": [
    "data.com_ratio.fillna(10.142537,inplace=True)"
   ]
  },
  {
   "cell_type": "code",
   "execution_count": 567,
   "id": "8ae60175",
   "metadata": {},
   "outputs": [
    {
     "data": {
      "text/plain": [
       "0"
      ]
     },
     "execution_count": 567,
     "metadata": {},
     "output_type": "execute_result"
    }
   ],
   "source": [
    "data.com_ratio.isnull().sum()"
   ]
  },
  {
   "cell_type": "code",
   "execution_count": 568,
   "id": "98dae394",
   "metadata": {},
   "outputs": [
    {
     "data": {
      "text/plain": [
       "{'whiskers': [<matplotlib.lines.Line2D at 0x1193d6a60>,\n",
       "  <matplotlib.lines.Line2D at 0x1193d6df0>],\n",
       " 'caps': [<matplotlib.lines.Line2D at 0x119bd41c0>,\n",
       "  <matplotlib.lines.Line2D at 0x119bd4550>],\n",
       " 'boxes': [<matplotlib.lines.Line2D at 0x1193d66d0>],\n",
       " 'medians': [<matplotlib.lines.Line2D at 0x119bd48e0>],\n",
       " 'fliers': [<matplotlib.lines.Line2D at 0x119bd4c70>],\n",
       " 'means': []}"
      ]
     },
     "execution_count": 568,
     "metadata": {},
     "output_type": "execute_result"
    },
    {
     "data": {
      "image/png": "[encoded data removed]",
      "text/plain": [
       "<Figure size 432x288 with 1 Axes>"
      ]
     },
     "metadata": {
      "needs_background": "light"
     },
     "output_type": "display_data"
    }
   ],
   "source": [
    "plt.boxplot(data.com_ratio)"
   ]
  },
  {
   "cell_type": "code",
   "execution_count": 569,
   "id": "deef1318",
   "metadata": {},
   "outputs": [
    {
     "data": {
      "text/plain": [
       "(array([ 51., 133.,   1.,   0.,   0.,   0.,   0.,   0.,   5.,  15.]),\n",
       " array([ 7. ,  8.6, 10.2, 11.8, 13.4, 15. , 16.6, 18.2, 19.8, 21.4, 23. ]),\n",
       " <BarContainer object of 10 artists>)"
      ]
     },
     "execution_count": 569,
     "metadata": {},
     "output_type": "execute_result"
    },
    {
     "data": {
      "image/png": "[encoded data removed]",
      "text/plain": [
       "<Figure size 432x288 with 1 Axes>"
      ]
     },
     "metadata": {
      "needs_background": "light"
     },
     "output_type": "display_data"
    }
   ],
   "source": [
    "plt.hist(data.com_ratio)"
   ]
  },
  {
   "cell_type": "code",
   "execution_count": 570,
   "id": "fe49a02e",
   "metadata": {},
   "outputs": [
    {
     "data": {
      "text/plain": [
       "ShapiroResult(statistic=0.49774158000946045, pvalue=8.12114079238121e-24)"
      ]
     },
     "execution_count": 570,
     "metadata": {},
     "output_type": "execute_result"
    }
   ],
   "source": [
    "stats.shapiro(data.com_ratio)"
   ]
  },
  {
   "cell_type": "markdown",
   "id": "e009d648",
   "metadata": {},
   "source": [
    "<H6>\n",
    "The data is not normally distributed since the pvalue is less than alpha value.\n",
    "<H6>"
   ]
  },
  {
   "cell_type": "markdown",
   "id": "cf3096c3",
   "metadata": {},
   "source": [
    "<H6>\n",
    "Column22:Horse Power\n",
    "<H6>"
   ]
  },
  {
   "cell_type": "code",
   "execution_count": 571,
   "id": "1f18bb84",
   "metadata": {},
   "outputs": [
    {
     "data": {
      "text/plain": [
       "count    203.000000\n",
       "mean     104.256158\n",
       "std       39.714369\n",
       "min       48.000000\n",
       "25%       70.000000\n",
       "50%       95.000000\n",
       "75%      116.000000\n",
       "max      288.000000\n",
       "Name: hpower, dtype: float64"
      ]
     },
     "execution_count": 571,
     "metadata": {},
     "output_type": "execute_result"
    }
   ],
   "source": [
    "data.hpower.describe()"
   ]
  },
  {
   "cell_type": "code",
   "execution_count": 572,
   "id": "43399c12",
   "metadata": {},
   "outputs": [
    {
     "data": {
      "text/plain": [
       "2"
      ]
     },
     "execution_count": 572,
     "metadata": {},
     "output_type": "execute_result"
    }
   ],
   "source": [
    "data.hpower.isnull().sum()"
   ]
  },
  {
   "cell_type": "code",
   "execution_count": 573,
   "id": "06fc7255",
   "metadata": {},
   "outputs": [],
   "source": [
    "data.hpower.fillna(104.256158,inplace=True)"
   ]
  },
  {
   "cell_type": "code",
   "execution_count": 574,
   "id": "de6158cf",
   "metadata": {},
   "outputs": [
    {
     "data": {
      "text/plain": [
       "0"
      ]
     },
     "execution_count": 574,
     "metadata": {},
     "output_type": "execute_result"
    }
   ],
   "source": [
    "data.hpower.isnull().sum()"
   ]
  },
  {
   "cell_type": "code",
   "execution_count": 575,
   "id": "8d1aefa5",
   "metadata": {},
   "outputs": [
    {
     "data": {
      "text/plain": [
       "array([111.      , 154.      , 102.      , 115.      , 110.      ,\n",
       "       140.      , 160.      , 101.      , 121.      , 182.      ,\n",
       "        48.      ,  70.      ,  68.      ,  88.      , 145.      ,\n",
       "        58.      ,  76.      ,  60.      ,  86.      , 100.      ,\n",
       "        78.      ,  90.      , 176.      , 262.      , 135.      ,\n",
       "        84.      ,  64.      , 120.      ,  72.      , 123.      ,\n",
       "       155.      , 184.      , 175.      , 116.      ,  69.      ,\n",
       "        55.      ,  97.      , 152.      , 200.      ,  95.      ,\n",
       "       142.      , 143.      , 207.      , 288.      , 104.256158,\n",
       "        73.      ,  82.      ,  94.      ,  62.      ,  56.      ,\n",
       "       112.      ,  92.      , 161.      , 156.      ,  52.      ,\n",
       "        85.      , 114.      , 162.      , 134.      , 106.      ])"
      ]
     },
     "execution_count": 575,
     "metadata": {},
     "output_type": "execute_result"
    }
   ],
   "source": [
    "data.hpower.unique()"
   ]
  },
  {
   "cell_type": "code",
   "execution_count": 576,
   "id": "f8e04b56",
   "metadata": {},
   "outputs": [
    {
     "data": {
      "text/plain": [
       "{'whiskers': [<matplotlib.lines.Line2D at 0x119cb8490>,\n",
       "  <matplotlib.lines.Line2D at 0x119cb8820>],\n",
       " 'caps': [<matplotlib.lines.Line2D at 0x119cb8bb0>,\n",
       "  <matplotlib.lines.Line2D at 0x119cb8f40>],\n",
       " 'boxes': [<matplotlib.lines.Line2D at 0x119cb8100>],\n",
       " 'medians': [<matplotlib.lines.Line2D at 0x119cc3310>],\n",
       " 'fliers': [<matplotlib.lines.Line2D at 0x119cc36a0>],\n",
       " 'means': []}"
      ]
     },
     "execution_count": 576,
     "metadata": {},
     "output_type": "execute_result"
    },
    {
     "data": {
      "image/png": "[encoded data removed]",
      "text/plain": [
       "<Figure size 432x288 with 1 Axes>"
      ]
     },
     "metadata": {
      "needs_background": "light"
     },
     "output_type": "display_data"
    }
   ],
   "source": [
    "plt.boxplot(data.hpower)"
   ]
  },
  {
   "cell_type": "code",
   "execution_count": 577,
   "id": "1370cbee",
   "metadata": {},
   "outputs": [
    {
     "data": {
      "text/plain": [
       "(array([55., 49., 51., 13., 23.,  8.,  4.,  0.,  1.,  1.]),\n",
       " array([ 48.,  72.,  96., 120., 144., 168., 192., 216., 240., 264., 288.]),\n",
       " <BarContainer object of 10 artists>)"
      ]
     },
     "execution_count": 577,
     "metadata": {},
     "output_type": "execute_result"
    },
    {
     "data": {
      "image/png": "[encoded data removed]",
      "text/plain": [
       "<Figure size 432x288 with 1 Axes>"
      ]
     },
     "metadata": {
      "needs_background": "light"
     },
     "output_type": "display_data"
    }
   ],
   "source": [
    "plt.hist(data.hpower)"
   ]
  },
  {
   "cell_type": "code",
   "execution_count": 578,
   "id": "75511210",
   "metadata": {},
   "outputs": [
    {
     "data": {
      "text/plain": [
       "ShapiroResult(statistic=0.8850876688957214, pvalue=2.11449850684442e-11)"
      ]
     },
     "execution_count": 578,
     "metadata": {},
     "output_type": "execute_result"
    }
   ],
   "source": [
    "stats.shapiro(data.hpower)"
   ]
  },
  {
   "cell_type": "markdown",
   "id": "d8e57fba",
   "metadata": {},
   "source": [
    "<H6>\n",
    "The data is not normally distributed since the pvalue is less than alpha value.\n",
    "<H6>"
   ]
  },
  {
   "cell_type": "markdown",
   "id": "60643f4c",
   "metadata": {},
   "source": [
    "<H6>\n",
    "Column23:Peak RPM\n",
    "<H6>"
   ]
  },
  {
   "cell_type": "code",
   "execution_count": 579,
   "id": "395be280",
   "metadata": {},
   "outputs": [
    {
     "data": {
      "text/plain": [
       "count     203.000000\n",
       "mean     5125.369458\n",
       "std       479.334560\n",
       "min      4150.000000\n",
       "25%      4800.000000\n",
       "50%      5200.000000\n",
       "75%      5500.000000\n",
       "max      6600.000000\n",
       "Name: peak_rpm, dtype: float64"
      ]
     },
     "execution_count": 579,
     "metadata": {},
     "output_type": "execute_result"
    }
   ],
   "source": [
    "data.peak_rpm.describe()"
   ]
  },
  {
   "cell_type": "code",
   "execution_count": 580,
   "id": "dbf90ab4",
   "metadata": {},
   "outputs": [
    {
     "data": {
      "text/plain": [
       "2"
      ]
     },
     "execution_count": 580,
     "metadata": {},
     "output_type": "execute_result"
    }
   ],
   "source": [
    "data.peak_rpm.isnull().sum()"
   ]
  },
  {
   "cell_type": "code",
   "execution_count": 581,
   "id": "855001e5",
   "metadata": {},
   "outputs": [],
   "source": [
    "data.peak_rpm.fillna(5125.369458,inplace=True)"
   ]
  },
  {
   "cell_type": "code",
   "execution_count": 582,
   "id": "ef7b0955",
   "metadata": {},
   "outputs": [
    {
     "data": {
      "text/plain": [
       "0"
      ]
     },
     "execution_count": 582,
     "metadata": {},
     "output_type": "execute_result"
    }
   ],
   "source": [
    "data.peak_rpm.isnull().sum()"
   ]
  },
  {
   "cell_type": "code",
   "execution_count": 583,
   "id": "cc684719",
   "metadata": {},
   "outputs": [
    {
     "data": {
      "text/plain": [
       "array([5000.      , 5500.      , 5800.      , 4250.      , 5400.      ,\n",
       "       5100.      , 4800.      , 6000.      , 4750.      , 4650.      ,\n",
       "       4200.      , 4350.      , 4500.      , 5200.      , 4150.      ,\n",
       "       5600.      , 5900.      , 5750.      , 5125.369458, 5250.      ,\n",
       "       4900.      , 4400.      , 6600.      , 5300.      ])"
      ]
     },
     "execution_count": 583,
     "metadata": {},
     "output_type": "execute_result"
    }
   ],
   "source": [
    "data.peak_rpm.unique()"
   ]
  },
  {
   "cell_type": "code",
   "execution_count": 584,
   "id": "ae5c6ffe",
   "metadata": {},
   "outputs": [
    {
     "data": {
      "text/plain": [
       "{'whiskers': [<matplotlib.lines.Line2D at 0x11c6e2610>,\n",
       "  <matplotlib.lines.Line2D at 0x11c6e29a0>],\n",
       " 'caps': [<matplotlib.lines.Line2D at 0x11c6e2d30>,\n",
       "  <matplotlib.lines.Line2D at 0x11c6ed100>],\n",
       " 'boxes': [<matplotlib.lines.Line2D at 0x11c6e2280>],\n",
       " 'medians': [<matplotlib.lines.Line2D at 0x11c6ed490>],\n",
       " 'fliers': [<matplotlib.lines.Line2D at 0x11c6ed820>],\n",
       " 'means': []}"
      ]
     },
     "execution_count": 584,
     "metadata": {},
     "output_type": "execute_result"
    },
    {
     "data": {
      "image/png": "[encoded data removed]",
      "text/plain": [
       "<Figure size 432x288 with 1 Axes>"
      ]
     },
     "metadata": {
      "needs_background": "light"
     },
     "output_type": "display_data"
    }
   ],
   "source": [
    "plt.boxplot(data.peak_rpm)"
   ]
  },
  {
   "cell_type": "code",
   "execution_count": 585,
   "id": "2c0f979b",
   "metadata": {},
   "outputs": [
    {
     "data": {
      "text/plain": [
       "(array([17., 10., 41., 33., 31., 51.,  8., 12.,  0.,  2.]),\n",
       " array([4150., 4395., 4640., 4885., 5130., 5375., 5620., 5865., 6110.,\n",
       "        6355., 6600.]),\n",
       " <BarContainer object of 10 artists>)"
      ]
     },
     "execution_count": 585,
     "metadata": {},
     "output_type": "execute_result"
    },
    {
     "data": {
      "image/png": "[encoded data removed]",
      "text/plain": [
       "<Figure size 432x288 with 1 Axes>"
      ]
     },
     "metadata": {
      "needs_background": "light"
     },
     "output_type": "display_data"
    }
   ],
   "source": [
    "plt.hist(data.peak_rpm)"
   ]
  },
  {
   "cell_type": "code",
   "execution_count": 586,
   "id": "eb4756b1",
   "metadata": {},
   "outputs": [
    {
     "data": {
      "text/plain": [
       "ShapiroResult(statistic=0.9705138802528381, pvalue=0.000267903262283653)"
      ]
     },
     "execution_count": 586,
     "metadata": {},
     "output_type": "execute_result"
    }
   ],
   "source": [
    "stats.shapiro(data.peak_rpm)"
   ]
  },
  {
   "cell_type": "markdown",
   "id": "982fb089",
   "metadata": {},
   "source": [
    "<H6>\n",
    "The data is not normally distributed since the pvalue is less than aplha value.\n",
    "<H6><H6>\n"
   ]
  },
  {
   "cell_type": "markdown",
   "id": "0f36d122",
   "metadata": {},
   "source": [
    "<H6>\n",
    "Column24:City MPG\n",
    "<H6>"
   ]
  },
  {
   "cell_type": "code",
   "execution_count": 587,
   "id": "31a41066",
   "metadata": {},
   "outputs": [
    {
     "data": {
      "text/plain": [
       "count    205.000000\n",
       "mean      25.219512\n",
       "std        6.542142\n",
       "min       13.000000\n",
       "25%       19.000000\n",
       "50%       24.000000\n",
       "75%       30.000000\n",
       "max       49.000000\n",
       "Name: city_mpg, dtype: float64"
      ]
     },
     "execution_count": 587,
     "metadata": {},
     "output_type": "execute_result"
    }
   ],
   "source": [
    "data.city_mpg.describe()"
   ]
  },
  {
   "cell_type": "code",
   "execution_count": 588,
   "id": "63bfc86d",
   "metadata": {},
   "outputs": [
    {
     "data": {
      "text/plain": [
       "0"
      ]
     },
     "execution_count": 588,
     "metadata": {},
     "output_type": "execute_result"
    }
   ],
   "source": [
    "data.city_mpg.isnull().sum()"
   ]
  },
  {
   "cell_type": "code",
   "execution_count": 589,
   "id": "95660ffa",
   "metadata": {},
   "outputs": [
    {
     "data": {
      "text/plain": [
       "array([21, 19, 24, 18, 17, 16, 23, 20, 15, 47, 38, 37, 31, 49, 30, 27, 25,\n",
       "       13, 26, 36, 22, 14, 45, 28, 32, 35, 34, 29, 33], dtype=int64)"
      ]
     },
     "execution_count": 589,
     "metadata": {},
     "output_type": "execute_result"
    }
   ],
   "source": [
    "data.city_mpg.unique()"
   ]
  },
  {
   "cell_type": "code",
   "execution_count": 590,
   "id": "530aefc4",
   "metadata": {},
   "outputs": [
    {
     "data": {
      "text/plain": [
       "{'whiskers': [<matplotlib.lines.Line2D at 0x11c7ba490>,\n",
       "  <matplotlib.lines.Line2D at 0x11c7ba820>],\n",
       " 'caps': [<matplotlib.lines.Line2D at 0x11c7babb0>,\n",
       "  <matplotlib.lines.Line2D at 0x11c7baf40>],\n",
       " 'boxes': [<matplotlib.lines.Line2D at 0x11c7ba100>],\n",
       " 'medians': [<matplotlib.lines.Line2D at 0x11c7c5310>],\n",
       " 'fliers': [<matplotlib.lines.Line2D at 0x11c7c56a0>],\n",
       " 'means': []}"
      ]
     },
     "execution_count": 590,
     "metadata": {},
     "output_type": "execute_result"
    },
    {
     "data": {
      "image/png": "[encoded data removed]",
      "text/plain": [
       "<Figure size 432x288 with 1 Axes>"
      ]
     },
     "metadata": {
      "needs_background": "light"
     },
     "output_type": "display_data"
    }
   ],
   "source": [
    "plt.boxplot(data.city_mpg)"
   ]
  },
  {
   "cell_type": "code",
   "execution_count": 591,
   "id": "a7a0778c",
   "metadata": {},
   "outputs": [
    {
     "data": {
      "text/plain": [
       "(array([12., 46., 24., 56., 18., 31., 15.,  0.,  1.,  2.]),\n",
       " array([13. , 16.6, 20.2, 23.8, 27.4, 31. , 34.6, 38.2, 41.8, 45.4, 49. ]),\n",
       " <BarContainer object of 10 artists>)"
      ]
     },
     "execution_count": 591,
     "metadata": {},
     "output_type": "execute_result"
    },
    {
     "data": {
      "image/png": "[encoded data removed]",
      "text/plain": [
       "<Figure size 432x288 with 1 Axes>"
      ]
     },
     "metadata": {
      "needs_background": "light"
     },
     "output_type": "display_data"
    }
   ],
   "source": [
    "plt.hist(data.city_mpg)"
   ]
  },
  {
   "cell_type": "code",
   "execution_count": 592,
   "id": "97af0a42",
   "metadata": {},
   "outputs": [
    {
     "data": {
      "text/plain": [
       "ShapiroResult(statistic=0.9572238922119141, pvalue=7.825866305211093e-06)"
      ]
     },
     "execution_count": 592,
     "metadata": {},
     "output_type": "execute_result"
    }
   ],
   "source": [
    "stats.shapiro(data.city_mpg)"
   ]
  },
  {
   "cell_type": "markdown",
   "id": "3446d102",
   "metadata": {},
   "source": [
    "<H6>\n",
    "The data is not normally distributed since the pvalue is less than alpha value.\n",
    "<H6>"
   ]
  },
  {
   "cell_type": "markdown",
   "id": "12d2f093",
   "metadata": {},
   "source": [
    "<H6>\n",
    "Column25:Highway MPG\n",
    "<H6>"
   ]
  },
  {
   "cell_type": "code",
   "execution_count": 593,
   "id": "5fbf3aac",
   "metadata": {},
   "outputs": [
    {
     "data": {
      "text/plain": [
       "count    205.000000\n",
       "mean      30.751220\n",
       "std        6.886443\n",
       "min       16.000000\n",
       "25%       25.000000\n",
       "50%       30.000000\n",
       "75%       34.000000\n",
       "max       54.000000\n",
       "Name: hw_mpg, dtype: float64"
      ]
     },
     "execution_count": 593,
     "metadata": {},
     "output_type": "execute_result"
    }
   ],
   "source": [
    "data.hw_mpg.describe()"
   ]
  },
  {
   "cell_type": "code",
   "execution_count": 594,
   "id": "437827a9",
   "metadata": {},
   "outputs": [
    {
     "data": {
      "text/plain": [
       "0"
      ]
     },
     "execution_count": 594,
     "metadata": {},
     "output_type": "execute_result"
    }
   ],
   "source": [
    "data.hw_mpg.isnull().sum()"
   ]
  },
  {
   "cell_type": "code",
   "execution_count": 595,
   "id": "58534f91",
   "metadata": {},
   "outputs": [
    {
     "data": {
      "text/plain": [
       "array([27, 26, 30, 22, 25, 20, 29, 28, 53, 43, 41, 38, 24, 54, 42, 34, 33,\n",
       "       31, 19, 17, 23, 32, 39, 18, 16, 37, 50, 36, 47, 46], dtype=int64)"
      ]
     },
     "execution_count": 595,
     "metadata": {},
     "output_type": "execute_result"
    }
   ],
   "source": [
    "data.hw_mpg.unique()"
   ]
  },
  {
   "cell_type": "code",
   "execution_count": 596,
   "id": "d7b9f034",
   "metadata": {},
   "outputs": [
    {
     "data": {
      "text/plain": [
       "{'whiskers': [<matplotlib.lines.Line2D at 0x11c8a0790>,\n",
       "  <matplotlib.lines.Line2D at 0x11c8a0b20>],\n",
       " 'caps': [<matplotlib.lines.Line2D at 0x11c8a0eb0>,\n",
       "  <matplotlib.lines.Line2D at 0x11c8ae280>],\n",
       " 'boxes': [<matplotlib.lines.Line2D at 0x11c8a0400>],\n",
       " 'medians': [<matplotlib.lines.Line2D at 0x11c8ae610>],\n",
       " 'fliers': [<matplotlib.lines.Line2D at 0x11c8ae9a0>],\n",
       " 'means': []}"
      ]
     },
     "execution_count": 596,
     "metadata": {},
     "output_type": "execute_result"
    },
    {
     "data": {
      "image/png": "[encoded data removed]",
      "text/plain": [
       "<Figure size 432x288 with 1 Axes>"
      ]
     },
     "metadata": {
      "needs_background": "light"
     },
     "output_type": "display_data"
    }
   ],
   "source": [
    "plt.boxplot(data.hw_mpg)"
   ]
  },
  {
   "cell_type": "code",
   "execution_count": 597,
   "id": "70adb1aa",
   "metadata": {},
   "outputs": [
    {
     "data": {
      "text/plain": [
       "(array([ 7., 17., 44., 47., 39., 32.,  8.,  6.,  3.,  2.]),\n",
       " array([16. , 19.8, 23.6, 27.4, 31.2, 35. , 38.8, 42.6, 46.4, 50.2, 54. ]),\n",
       " <BarContainer object of 10 artists>)"
      ]
     },
     "execution_count": 597,
     "metadata": {},
     "output_type": "execute_result"
    },
    {
     "data": {
      "image/png": "[encoded data removed]",
      "text/plain": [
       "<Figure size 432x288 with 1 Axes>"
      ]
     },
     "metadata": {
      "needs_background": "light"
     },
     "output_type": "display_data"
    }
   ],
   "source": [
    "plt.hist(data.hw_mpg)"
   ]
  },
  {
   "cell_type": "code",
   "execution_count": 598,
   "id": "290c27a1",
   "metadata": {},
   "outputs": [
    {
     "data": {
      "text/plain": [
       "ShapiroResult(statistic=0.9735103845596313, pvalue=0.0006515368004329503)"
      ]
     },
     "execution_count": 598,
     "metadata": {},
     "output_type": "execute_result"
    }
   ],
   "source": [
    "stats.shapiro(data.hw_mpg)"
   ]
  },
  {
   "cell_type": "markdown",
   "id": "388dbd19",
   "metadata": {},
   "source": [
    "<H6>\n",
    "The data is not normally distributed since the pvalue is less than alpha value.\n",
    "<H6>"
   ]
  },
  {
   "cell_type": "markdown",
   "id": "2e524441",
   "metadata": {},
   "source": [
    "<H6>\n",
    "Column26:Price\n",
    "<H6>"
   ]
  },
  {
   "cell_type": "code",
   "execution_count": 599,
   "id": "cfa05ed9",
   "metadata": {},
   "outputs": [
    {
     "data": {
      "text/plain": [
       "count      201.000000\n",
       "mean     13207.129353\n",
       "std       7947.066342\n",
       "min       5118.000000\n",
       "25%       7775.000000\n",
       "50%      10295.000000\n",
       "75%      16500.000000\n",
       "max      45400.000000\n",
       "Name: price, dtype: float64"
      ]
     },
     "execution_count": 599,
     "metadata": {},
     "output_type": "execute_result"
    }
   ],
   "source": [
    "data.price.describe()"
   ]
  },
  {
   "cell_type": "code",
   "execution_count": 600,
   "id": "b59ed3b5",
   "metadata": {},
   "outputs": [
    {
     "data": {
      "text/plain": [
       "4"
      ]
     },
     "execution_count": 600,
     "metadata": {},
     "output_type": "execute_result"
    }
   ],
   "source": [
    "data.price.isnull().sum()"
   ]
  },
  {
   "cell_type": "code",
   "execution_count": 601,
   "id": "fb31d9ca",
   "metadata": {},
   "outputs": [],
   "source": [
    "data.price.fillna(13207.129353,inplace=True)"
   ]
  },
  {
   "cell_type": "code",
   "execution_count": 602,
   "id": "309c12bb",
   "metadata": {},
   "outputs": [
    {
     "data": {
      "text/plain": [
       "0"
      ]
     },
     "execution_count": 602,
     "metadata": {},
     "output_type": "execute_result"
    }
   ],
   "source": [
    "data.price.isnull().sum()"
   ]
  },
  {
   "cell_type": "code",
   "execution_count": 603,
   "id": "624e87b3",
   "metadata": {},
   "outputs": [
    {
     "data": {
      "text/plain": [
       "array([13495.      , 16500.      , 13950.      , 17450.      ,\n",
       "       15250.      , 17710.      , 18920.      , 23875.      ,\n",
       "       13207.129353, 16430.      , 16925.      , 20970.      ,\n",
       "       21105.      , 24565.      , 30760.      , 41315.      ,\n",
       "       36880.      ,  5151.      ,  6295.      ,  6575.      ,\n",
       "        5572.      ,  6377.      ,  7957.      ,  6229.      ,\n",
       "        6692.      ,  7609.      ,  8558.      ,  8921.      ,\n",
       "       12964.      ,  6479.      ,  6855.      ,  5399.      ,\n",
       "        6529.      ,  7129.      ,  7295.      ,  7895.      ,\n",
       "        9095.      ,  8845.      , 10295.      , 12945.      ,\n",
       "       10345.      ,  6785.      , 11048.      , 32250.      ,\n",
       "       35550.      , 36000.      ,  5195.      ,  6095.      ,\n",
       "        6795.      ,  6695.      ,  7395.      , 10945.      ,\n",
       "       11845.      , 13645.      , 15645.      ,  8495.      ,\n",
       "       10595.      , 10245.      , 10795.      , 11245.      ,\n",
       "       18280.      , 18344.      , 25552.      , 28248.      ,\n",
       "       28176.      , 31600.      , 34184.      , 35056.      ,\n",
       "       40960.      , 45400.      , 16503.      ,  5389.      ,\n",
       "        6189.      ,  6669.      ,  7689.      ,  9959.      ,\n",
       "        8499.      , 12629.      , 14869.      , 14489.      ,\n",
       "        6989.      ,  8189.      ,  9279.      ,  5499.      ,\n",
       "        7099.      ,  6649.      ,  6849.      ,  7349.      ,\n",
       "        7299.      ,  7799.      ,  7499.      ,  7999.      ,\n",
       "        8249.      ,  8949.      ,  9549.      , 13499.      ,\n",
       "       14399.      , 17199.      , 19699.      , 18399.      ,\n",
       "       11900.      , 13200.      , 12440.      , 13860.      ,\n",
       "       15580.      , 16900.      , 16695.      , 17075.      ,\n",
       "       16630.      , 17950.      , 18150.      , 12764.      ,\n",
       "       22018.      , 32528.      , 34028.      , 37028.      ,\n",
       "        9295.      ,  9895.      , 11850.      , 12170.      ,\n",
       "       15040.      , 15510.      , 18620.      ,  5118.      ,\n",
       "        7053.      ,  7603.      ,  7126.      ,  7775.      ,\n",
       "        9960.      ,  9233.      , 11259.      ,  7463.      ,\n",
       "       10198.      ,  8013.      , 11694.      ,  5348.      ,\n",
       "        6338.      ,  6488.      ,  6918.      ,  7898.      ,\n",
       "        8778.      ,  6938.      ,  7198.      ,  7788.      ,\n",
       "        7738.      ,  8358.      ,  9258.      ,  8058.      ,\n",
       "        8238.      ,  9298.      ,  9538.      ,  8449.      ,\n",
       "        9639.      ,  9989.      , 11199.      , 11549.      ,\n",
       "       17669.      ,  8948.      , 10698.      ,  9988.      ,\n",
       "       10898.      , 11248.      , 16558.      , 15998.      ,\n",
       "       15690.      , 15750.      ,  7975.      ,  7995.      ,\n",
       "        8195.      ,  9495.      ,  9995.      , 11595.      ,\n",
       "        9980.      , 13295.      , 13845.      , 12290.      ,\n",
       "       12940.      , 13415.      , 15985.      , 16515.      ,\n",
       "       18420.      , 18950.      , 16845.      , 19045.      ,\n",
       "       21485.      , 22470.      , 22625.      ])"
      ]
     },
     "execution_count": 603,
     "metadata": {},
     "output_type": "execute_result"
    }
   ],
   "source": [
    "data.price.unique()"
   ]
  },
  {
   "cell_type": "code",
   "execution_count": 604,
   "id": "248be5d4",
   "metadata": {},
   "outputs": [
    {
     "data": {
      "text/plain": [
       "{'whiskers': [<matplotlib.lines.Line2D at 0x11c97fee0>,\n",
       "  <matplotlib.lines.Line2D at 0x11c98f2b0>],\n",
       " 'caps': [<matplotlib.lines.Line2D at 0x11c98f640>,\n",
       "  <matplotlib.lines.Line2D at 0x11c98f9d0>],\n",
       " 'boxes': [<matplotlib.lines.Line2D at 0x11c97fb50>],\n",
       " 'medians': [<matplotlib.lines.Line2D at 0x11c98fd60>],\n",
       " 'fliers': [<matplotlib.lines.Line2D at 0x11c99a130>],\n",
       " 'means': []}"
      ]
     },
     "execution_count": 604,
     "metadata": {},
     "output_type": "execute_result"
    },
    {
     "data": {
      "image/png": "[encoded data removed]",
      "text/plain": [
       "<Figure size 432x288 with 1 Axes>"
      ]
     },
     "metadata": {
      "needs_background": "light"
     },
     "output_type": "display_data"
    }
   ],
   "source": [
    "plt.boxplot(data.price)"
   ]
  },
  {
   "cell_type": "code",
   "execution_count": 605,
   "id": "1bd55218",
   "metadata": {},
   "outputs": [
    {
     "data": {
      "text/plain": [
       "(array([81., 45., 39., 17.,  6.,  3.,  4.,  7.,  2.,  1.]),\n",
       " array([ 5118. ,  9146.2, 13174.4, 17202.6, 21230.8, 25259. , 29287.2,\n",
       "        33315.4, 37343.6, 41371.8, 45400. ]),\n",
       " <BarContainer object of 10 artists>)"
      ]
     },
     "execution_count": 605,
     "metadata": {},
     "output_type": "execute_result"
    },
    {
     "data": {
      "image/png": "[encoded data removed]",
      "text/plain": [
       "<Figure size 432x288 with 1 Axes>"
      ]
     },
     "metadata": {
      "needs_background": "light"
     },
     "output_type": "display_data"
    }
   ],
   "source": [
    "plt.hist(data.price)"
   ]
  },
  {
   "cell_type": "code",
   "execution_count": 606,
   "id": "9ba913c6",
   "metadata": {},
   "outputs": [
    {
     "data": {
      "text/plain": [
       "ShapiroResult(statistic=0.7997004985809326, pvalue=1.691838515494677e-15)"
      ]
     },
     "execution_count": 606,
     "metadata": {},
     "output_type": "execute_result"
    }
   ],
   "source": [
    "stats.shapiro(data.price)"
   ]
  },
  {
   "cell_type": "markdown",
   "id": "980c1306",
   "metadata": {},
   "source": [
    "<H6>\n",
    "The data is not normally distributed since the pvalue is less than alpha value.\n",
    "<H6>"
   ]
  },
  {
   "cell_type": "markdown",
   "id": "00478e48",
   "metadata": {},
   "source": [
    "<H3>\n",
    "MODEL CREATION\n",
    "<H6>"
   ]
  },
  {
   "cell_type": "code",
   "execution_count": 607,
   "id": "27d9f639",
   "metadata": {},
   "outputs": [],
   "source": [
    "Data=data.drop(['sym','make','fuel_type','asp','no_door','body_style','d_wheels','engine_loc','engine_type','no_cyl','fuel_system'],axis=1)"
   ]
  },
  {
   "cell_type": "code",
   "execution_count": 608,
   "id": "6b34d326",
   "metadata": {},
   "outputs": [
    {
     "data": {
      "text/plain": [
       "Index(['nor_los', 'wheel_base', 'length', 'width', 'height', 'curb_weight',\n",
       "       'engine_size', 'bore', 'stroke', 'com_ratio', 'hpower', 'peak_rpm',\n",
       "       'city_mpg', 'hw_mpg', 'price'],\n",
       "      dtype='object')"
      ]
     },
     "execution_count": 608,
     "metadata": {},
     "output_type": "execute_result"
    }
   ],
   "source": [
    "Data.columns"
   ]
  },
  {
   "cell_type": "markdown",
   "id": "c1680a84",
   "metadata": {},
   "source": [
    "<H6>\n",
    "Y=Price and X=Independent parameters\n",
    "<H6>"
   ]
  },
  {
   "cell_type": "markdown",
   "id": "e1b0193c",
   "metadata": {},
   "source": [
    "<H6>\n",
    "Pearsonr testin\n",
    "<H6>"
   ]
  },
  {
   "cell_type": "code",
   "execution_count": null,
   "id": "181b6807",
   "metadata": {},
   "outputs": [],
   "source": []
  },
  {
   "cell_type": "code",
   "execution_count": 609,
   "id": "563356c4",
   "metadata": {},
   "outputs": [
    {
     "name": "stdout",
     "output_type": "stream",
     "text": [
      "(0.13399873429274337, 0.05543057826318259)\n"
     ]
    }
   ],
   "source": [
    "from scipy.stats import pearsonr\n",
    "strength=pearsonr(Data.nor_los,Data.price)\n",
    "print(strength)"
   ]
  },
  {
   "cell_type": "code",
   "execution_count": 610,
   "id": "5609a892",
   "metadata": {},
   "outputs": [
    {
     "name": "stdout",
     "output_type": "stream",
     "text": [
      "(0.5831681499791512, 4.5276255455256544e-20)\n"
     ]
    }
   ],
   "source": [
    "from scipy.stats import pearsonr\n",
    "strength=pearsonr(Data.wheel_base,Data.price)\n",
    "print(strength)"
   ]
  },
  {
   "cell_type": "code",
   "execution_count": 611,
   "id": "bc653710",
   "metadata": {},
   "outputs": [
    {
     "name": "stdout",
     "output_type": "stream",
     "text": [
      "(0.6829862954389819, 1.649887328966592e-29)\n"
     ]
    }
   ],
   "source": [
    "from scipy.stats import pearsonr\n",
    "strength=pearsonr(Data.length,Data.price)\n",
    "print(strength)"
   ]
  },
  {
   "cell_type": "code",
   "execution_count": 612,
   "id": "ab35b994",
   "metadata": {},
   "outputs": [
    {
     "name": "stdout",
     "output_type": "stream",
     "text": [
      "(0.7286988175929279, 3.214520484065366e-35)\n"
     ]
    }
   ],
   "source": [
    "from scipy.stats import pearsonr\n",
    "strength=pearsonr(Data.width,Data.price)\n",
    "print(strength)"
   ]
  },
  {
   "cell_type": "code",
   "execution_count": 613,
   "id": "09e290af",
   "metadata": {},
   "outputs": [
    {
     "name": "stdout",
     "output_type": "stream",
     "text": [
      "(0.13438751871101878, 0.05471982048333642)\n"
     ]
    }
   ],
   "source": [
    "from scipy.stats import pearsonr\n",
    "strength=pearsonr(Data.height,Data.price)\n",
    "print(strength)"
   ]
  },
  {
   "cell_type": "code",
   "execution_count": 614,
   "id": "4f55c4da",
   "metadata": {},
   "outputs": [
    {
     "name": "stdout",
     "output_type": "stream",
     "text": [
      "(0.8208247333547347, 2.8663321070187436e-51)\n"
     ]
    }
   ],
   "source": [
    "from scipy.stats import pearsonr\n",
    "strength=pearsonr(Data.curb_weight,Data.price)\n",
    "print(strength)"
   ]
  },
  {
   "cell_type": "code",
   "execution_count": 615,
   "id": "fe6c97e6",
   "metadata": {},
   "outputs": [
    {
     "name": "stdout",
     "output_type": "stream",
     "text": [
      "(0.8617522436859498, 9.669661923782083e-62)\n"
     ]
    }
   ],
   "source": [
    "from scipy.stats import pearsonr\n",
    "strength=pearsonr(Data.engine_size,Data.price)\n",
    "print(strength)"
   ]
  },
  {
   "cell_type": "code",
   "execution_count": 616,
   "id": "d4ef789a",
   "metadata": {},
   "outputs": [
    {
     "name": "stdout",
     "output_type": "stream",
     "text": [
      "(0.5323000199585453, 2.1398305142063517e-16)\n"
     ]
    }
   ],
   "source": [
    "strength=pearsonr(Data.bore,Data.price)\n",
    "print(strength)"
   ]
  },
  {
   "cell_type": "code",
   "execution_count": 617,
   "id": "cfb3df2c",
   "metadata": {},
   "outputs": [
    {
     "name": "stdout",
     "output_type": "stream",
     "text": [
      "(0.08209529537133145, 0.24191456955577154)\n"
     ]
    }
   ],
   "source": [
    "strength=pearsonr(Data.stroke,Data.price)\n",
    "print(strength)"
   ]
  },
  {
   "cell_type": "code",
   "execution_count": 618,
   "id": "6ceedeb3",
   "metadata": {},
   "outputs": [
    {
     "name": "stdout",
     "output_type": "stream",
     "text": [
      "(0.0709903627791758, 0.31178249194796)\n"
     ]
    }
   ],
   "source": [
    "strength=pearsonr(Data.com_ratio,Data.price)\n",
    "print(strength)"
   ]
  },
  {
   "cell_type": "code",
   "execution_count": 619,
   "id": "5f6f2bcf",
   "metadata": {},
   "outputs": [
    {
     "name": "stdout",
     "output_type": "stream",
     "text": [
      "(0.7579169537076744, 1.6076704223961165e-39)\n"
     ]
    }
   ],
   "source": [
    "strength=pearsonr(Data.hpower,Data.price)\n",
    "print(strength)"
   ]
  },
  {
   "cell_type": "code",
   "execution_count": 620,
   "id": "16b0ea23",
   "metadata": {},
   "outputs": [
    {
     "name": "stdout",
     "output_type": "stream",
     "text": [
      "(-0.10085406591095528, 0.15019246954531384)\n"
     ]
    }
   ],
   "source": [
    "strength=pearsonr(Data.peak_rpm,Data.price)\n",
    "print(strength)"
   ]
  },
  {
   "cell_type": "code",
   "execution_count": 621,
   "id": "95388ab3",
   "metadata": {},
   "outputs": [
    {
     "name": "stdout",
     "output_type": "stream",
     "text": [
      "(-0.6674492651601812, 8.463700497351642e-28)\n"
     ]
    }
   ],
   "source": [
    "strength=pearsonr(Data.city_mpg,Data.price)\n",
    "print(strength)"
   ]
  },
  {
   "cell_type": "code",
   "execution_count": 622,
   "id": "d92db2d3",
   "metadata": {},
   "outputs": [
    {
     "name": "stdout",
     "output_type": "stream",
     "text": [
      "(-0.6905257341186237, 2.2324674056721096e-30)\n"
     ]
    }
   ],
   "source": [
    "strength=pearsonr(Data.hw_mpg,Data.price)\n",
    "print(strength)"
   ]
  },
  {
   "cell_type": "markdown",
   "id": "c506b57e",
   "metadata": {},
   "source": [
    "<H6>\n",
    "Y=Price\n",
    "X=Horsepower,Engine Size,Width,Curb Weight\n",
    "<H6>"
   ]
  },
  {
   "cell_type": "code",
   "execution_count": 623,
   "id": "8666fa65",
   "metadata": {},
   "outputs": [
    {
     "name": "stdout",
     "output_type": "stream",
     "text": [
      "0      13495.0\n",
      "1      16500.0\n",
      "2      16500.0\n",
      "3      13950.0\n",
      "4      17450.0\n",
      "        ...   \n",
      "200    16845.0\n",
      "201    19045.0\n",
      "202    21485.0\n",
      "203    22470.0\n",
      "204    22625.0\n",
      "Name: price, Length: 205, dtype: float64\n"
     ]
    }
   ],
   "source": [
    "y=Data.price\n",
    "print(y)"
   ]
  },
  {
   "cell_type": "code",
   "execution_count": 624,
   "id": "04cfd40b",
   "metadata": {
    "scrolled": true
   },
   "outputs": [
    {
     "name": "stdout",
     "output_type": "stream",
     "text": [
      "     nor_los  wheel_base  length  width  height  curb_weight  engine_size  \\\n",
      "0      122.0        88.6   168.8   64.1    48.8         2548          130   \n",
      "1      122.0        88.6   168.8   64.1    48.8         2548          130   \n",
      "2      122.0        94.5   171.2   65.5    52.4         2823          152   \n",
      "3      164.0        99.8   176.6   66.2    54.3         2337          109   \n",
      "4      164.0        99.4   176.6   66.4    54.3         2824          136   \n",
      "..       ...         ...     ...    ...     ...          ...          ...   \n",
      "200     95.0       109.1   188.8   68.9    55.5         2952          141   \n",
      "201     95.0       109.1   188.8   68.8    55.5         3049          141   \n",
      "202     95.0       109.1   188.8   68.9    55.5         3012          173   \n",
      "203     95.0       109.1   188.8   68.9    55.5         3217          145   \n",
      "204     95.0       109.1   188.8   68.9    55.5         3062          141   \n",
      "\n",
      "     bore  stroke  com_ratio  hpower  peak_rpm  city_mpg  hw_mpg  \n",
      "0    3.47    2.68        9.0   111.0    5000.0        21      27  \n",
      "1    3.47    2.68        9.0   111.0    5000.0        21      27  \n",
      "2    2.68    3.47        9.0   154.0    5000.0        19      26  \n",
      "3    3.19    3.40       10.0   102.0    5500.0        24      30  \n",
      "4    3.19    3.40        8.0   115.0    5500.0        18      22  \n",
      "..    ...     ...        ...     ...       ...       ...     ...  \n",
      "200  3.78    3.15        9.5   114.0    5400.0        23      28  \n",
      "201  3.78    3.15        8.7   160.0    5300.0        19      25  \n",
      "202  3.58    2.87        8.8   134.0    5500.0        18      23  \n",
      "203  3.01    3.40       23.0   106.0    4800.0        26      27  \n",
      "204  3.78    3.15        9.5   114.0    5400.0        19      25  \n",
      "\n",
      "[205 rows x 14 columns]\n"
     ]
    }
   ],
   "source": [
    "x=Data.drop('price',axis=1)\n",
    "print(x)"
   ]
  },
  {
   "cell_type": "code",
   "execution_count": 625,
   "id": "4c89e387",
   "metadata": {},
   "outputs": [],
   "source": [
    "x.drop(['nor_los','wheel_base','length','height','bore','stroke','com_ratio','peak_rpm','city_mpg','hw_mpg'],axis=1,inplace=True)"
   ]
  },
  {
   "cell_type": "code",
   "execution_count": 626,
   "id": "ff48b62d",
   "metadata": {},
   "outputs": [
    {
     "name": "stdout",
     "output_type": "stream",
     "text": [
      "     width  curb_weight  engine_size  hpower\n",
      "0     64.1         2548          130   111.0\n",
      "1     64.1         2548          130   111.0\n",
      "2     65.5         2823          152   154.0\n",
      "3     66.2         2337          109   102.0\n",
      "4     66.4         2824          136   115.0\n",
      "..     ...          ...          ...     ...\n",
      "200   68.9         2952          141   114.0\n",
      "201   68.8         3049          141   160.0\n",
      "202   68.9         3012          173   134.0\n",
      "203   68.9         3217          145   106.0\n",
      "204   68.9         3062          141   114.0\n",
      "\n",
      "[205 rows x 4 columns]\n"
     ]
    }
   ],
   "source": [
    "print(x)"
   ]
  },
  {
   "cell_type": "code",
   "execution_count": 627,
   "id": "66719335",
   "metadata": {},
   "outputs": [
    {
     "data": {
      "text/plain": [
       "(205,)"
      ]
     },
     "execution_count": 627,
     "metadata": {},
     "output_type": "execute_result"
    }
   ],
   "source": [
    "y.shape"
   ]
  },
  {
   "cell_type": "code",
   "execution_count": 628,
   "id": "42194f1c",
   "metadata": {},
   "outputs": [
    {
     "data": {
      "text/plain": [
       "(205, 4)"
      ]
     },
     "execution_count": 628,
     "metadata": {},
     "output_type": "execute_result"
    }
   ],
   "source": [
    "x.shape"
   ]
  },
  {
   "cell_type": "code",
   "execution_count": 629,
   "id": "68bca6be",
   "metadata": {},
   "outputs": [
    {
     "name": "stdout",
     "output_type": "stream",
     "text": [
      "0      13495.0\n",
      "1      16500.0\n",
      "2      16500.0\n",
      "3      13950.0\n",
      "4      17450.0\n",
      "        ...   \n",
      "159     7788.0\n",
      "160     7738.0\n",
      "161     8358.0\n",
      "162     9258.0\n",
      "163     8058.0\n",
      "Name: price, Length: 164, dtype: float64\n"
     ]
    }
   ],
   "source": [
    "train_y=y.iloc[0:164]\n",
    "print(train_y)"
   ]
  },
  {
   "cell_type": "code",
   "execution_count": 630,
   "id": "d8588a9b",
   "metadata": {},
   "outputs": [
    {
     "name": "stdout",
     "output_type": "stream",
     "text": [
      "164     8238.0\n",
      "165     9298.0\n",
      "166     9538.0\n",
      "167     8449.0\n",
      "168     9639.0\n",
      "169     9989.0\n",
      "170    11199.0\n",
      "171    11549.0\n",
      "172    17669.0\n",
      "173     8948.0\n",
      "174    10698.0\n",
      "175     9988.0\n",
      "176    10898.0\n",
      "177    11248.0\n",
      "178    16558.0\n",
      "179    15998.0\n",
      "180    15690.0\n",
      "181    15750.0\n",
      "182     7775.0\n",
      "183     7975.0\n",
      "184     7995.0\n",
      "185     8195.0\n",
      "186     8495.0\n",
      "187     9495.0\n",
      "188     9995.0\n",
      "189    11595.0\n",
      "190     9980.0\n",
      "191    13295.0\n",
      "192    13845.0\n",
      "193    12290.0\n",
      "194    12940.0\n",
      "195    13415.0\n",
      "196    15985.0\n",
      "197    16515.0\n",
      "198    18420.0\n",
      "199    18950.0\n",
      "200    16845.0\n",
      "201    19045.0\n",
      "202    21485.0\n",
      "203    22470.0\n",
      "204    22625.0\n",
      "Name: price, dtype: float64\n"
     ]
    }
   ],
   "source": [
    "test_y=y.iloc[164:]\n",
    "print(test_y)"
   ]
  },
  {
   "cell_type": "code",
   "execution_count": 631,
   "id": "cc87151d",
   "metadata": {},
   "outputs": [
    {
     "name": "stdout",
     "output_type": "stream",
     "text": [
      "     width  curb_weight  engine_size  hpower\n",
      "0     64.1         2548          130   111.0\n",
      "1     64.1         2548          130   111.0\n",
      "2     65.5         2823          152   154.0\n",
      "3     66.2         2337          109   102.0\n",
      "4     66.4         2824          136   115.0\n",
      "..     ...          ...          ...     ...\n",
      "159   64.4         2275          110    56.0\n",
      "160   64.4         2094           98    70.0\n",
      "161   64.4         2122           98    70.0\n",
      "162   64.4         2140           98    70.0\n",
      "163   64.0         2169           98    70.0\n",
      "\n",
      "[164 rows x 4 columns]\n"
     ]
    }
   ],
   "source": [
    "train_x=x.iloc[0:164]\n",
    "print(train_x)"
   ]
  },
  {
   "cell_type": "code",
   "execution_count": 632,
   "id": "215a644d",
   "metadata": {},
   "outputs": [
    {
     "name": "stdout",
     "output_type": "stream",
     "text": [
      "     width  curb_weight  engine_size  hpower\n",
      "164   64.0         2204           98    70.0\n",
      "165   64.0         2265           98   112.0\n",
      "166   64.0         2300           98   112.0\n",
      "167   65.6         2540          146   116.0\n",
      "168   65.6         2536          146   116.0\n",
      "169   65.6         2551          146   116.0\n",
      "170   65.6         2679          146   116.0\n",
      "171   65.6         2714          146   116.0\n",
      "172   65.6         2975          146   116.0\n",
      "173   66.5         2326          122    92.0\n",
      "174   66.5         2480          110    73.0\n",
      "175   66.5         2414          122    92.0\n",
      "176   66.5         2414          122    92.0\n",
      "177   66.5         2458          122    92.0\n",
      "178   67.7         2976          171   161.0\n",
      "179   67.7         3016          171   161.0\n",
      "180   66.5         3131          171   156.0\n",
      "181   66.5         3151          161   156.0\n",
      "182   65.5         2261           97    52.0\n",
      "183   65.5         2209          109    85.0\n",
      "184   65.5         2264           97    52.0\n",
      "185   65.5         2212          109    85.0\n",
      "186   65.5         2275          109    85.0\n",
      "187   65.5         2319           97    68.0\n",
      "188   65.5         2300          109   100.0\n",
      "189   64.2         2254          109    90.0\n",
      "190   64.0         2221          109    90.0\n",
      "191   66.9         2661          136   110.0\n",
      "192   66.9         2579           97    68.0\n",
      "193   66.9         2563          109    88.0\n",
      "194   67.2         2912          141   114.0\n",
      "195   67.2         3034          141   114.0\n",
      "196   67.2         2935          141   114.0\n",
      "197   67.2         3042          141   114.0\n",
      "198   67.2         3045          130   162.0\n",
      "199   67.2         3157          130   162.0\n",
      "200   68.9         2952          141   114.0\n",
      "201   68.8         3049          141   160.0\n",
      "202   68.9         3012          173   134.0\n",
      "203   68.9         3217          145   106.0\n",
      "204   68.9         3062          141   114.0\n"
     ]
    }
   ],
   "source": [
    "test_x=x.iloc[164:]\n",
    "print(test_x)"
   ]
  },
  {
   "cell_type": "code",
   "execution_count": 633,
   "id": "a0296a96",
   "metadata": {},
   "outputs": [
    {
     "name": "stderr",
     "output_type": "stream",
     "text": [
      "F:\\Anaconda\\lib\\site-packages\\statsmodels\\tsa\\tsatools.py:142: FutureWarning: In a future version of pandas all arguments of concat except for the argument 'objs' will be keyword-only\n",
      "  x = pd.concat(x[::order], 1)\n"
     ]
    }
   ],
   "source": [
    "import statsmodels.api as sm\n",
    "x=sm.add_constant(x)"
   ]
  },
  {
   "cell_type": "code",
   "execution_count": 634,
   "id": "c03fe873",
   "metadata": {},
   "outputs": [
    {
     "data": {
      "text/plain": [
       "(205, 5)"
      ]
     },
     "execution_count": 634,
     "metadata": {},
     "output_type": "execute_result"
    }
   ],
   "source": [
    "x.shape"
   ]
  },
  {
   "cell_type": "code",
   "execution_count": 635,
   "id": "2f639c3d",
   "metadata": {},
   "outputs": [],
   "source": [
    "model=sm.OLS(train_y,train_x).fit()"
   ]
  },
  {
   "cell_type": "code",
   "execution_count": 636,
   "id": "fd47b9ac",
   "metadata": {},
   "outputs": [
    {
     "data": {
      "text/html": [
       "<table class=\"simpletable\">\n",
       "<caption>OLS Regression Results</caption>\n",
       "<tr>\n",
       "  <th>Dep. Variable:</th>          <td>price</td>      <th>  R-squared (uncentered):</th>      <td>   0.939</td>\n",
       "</tr>\n",
       "<tr>\n",
       "  <th>Model:</th>                   <td>OLS</td>       <th>  Adj. R-squared (uncentered):</th> <td>   0.938</td>\n",
       "</tr>\n",
       "<tr>\n",
       "  <th>Method:</th>             <td>Least Squares</td>  <th>  F-statistic:       </th>          <td>   620.2</td>\n",
       "</tr>\n",
       "<tr>\n",
       "  <th>Date:</th>             <td>Sun, 03 Apr 2022</td> <th>  Prob (F-statistic):</th>          <td>2.97e-96</td>\n",
       "</tr>\n",
       "<tr>\n",
       "  <th>Time:</th>                 <td>10:50:52</td>     <th>  Log-Likelihood:    </th>          <td> -1588.0</td>\n",
       "</tr>\n",
       "<tr>\n",
       "  <th>No. Observations:</th>      <td>   164</td>      <th>  AIC:               </th>          <td>   3184.</td>\n",
       "</tr>\n",
       "<tr>\n",
       "  <th>Df Residuals:</th>          <td>   160</td>      <th>  BIC:               </th>          <td>   3196.</td>\n",
       "</tr>\n",
       "<tr>\n",
       "  <th>Df Model:</th>              <td>     4</td>      <th>                     </th>              <td> </td>   \n",
       "</tr>\n",
       "<tr>\n",
       "  <th>Covariance Type:</th>      <td>nonrobust</td>    <th>                     </th>              <td> </td>   \n",
       "</tr>\n",
       "</table>\n",
       "<table class=\"simpletable\">\n",
       "<tr>\n",
       "       <td></td>          <th>coef</th>     <th>std err</th>      <th>t</th>      <th>P>|t|</th>  <th>[0.025</th>    <th>0.975]</th>  \n",
       "</tr>\n",
       "<tr>\n",
       "  <th>width</th>       <td> -213.8198</td> <td>   27.915</td> <td>   -7.660</td> <td> 0.000</td> <td> -268.948</td> <td> -158.691</td>\n",
       "</tr>\n",
       "<tr>\n",
       "  <th>curb_weight</th> <td>    4.3060</td> <td>    1.173</td> <td>    3.671</td> <td> 0.000</td> <td>    1.990</td> <td>    6.622</td>\n",
       "</tr>\n",
       "<tr>\n",
       "  <th>engine_size</th> <td>  106.6094</td> <td>   15.418</td> <td>    6.914</td> <td> 0.000</td> <td>   76.160</td> <td>  137.059</td>\n",
       "</tr>\n",
       "<tr>\n",
       "  <th>hpower</th>      <td>   28.8189</td> <td>   13.003</td> <td>    2.216</td> <td> 0.028</td> <td>    3.139</td> <td>   54.499</td>\n",
       "</tr>\n",
       "</table>\n",
       "<table class=\"simpletable\">\n",
       "<tr>\n",
       "  <th>Omnibus:</th>       <td>14.766</td> <th>  Durbin-Watson:     </th> <td>   1.055</td>\n",
       "</tr>\n",
       "<tr>\n",
       "  <th>Prob(Omnibus):</th> <td> 0.001</td> <th>  Jarque-Bera (JB):  </th> <td>  42.420</td>\n",
       "</tr>\n",
       "<tr>\n",
       "  <th>Skew:</th>          <td> 0.188</td> <th>  Prob(JB):          </th> <td>6.15e-10</td>\n",
       "</tr>\n",
       "<tr>\n",
       "  <th>Kurtosis:</th>      <td> 5.463</td> <th>  Cond. No.          </th> <td>    242.</td>\n",
       "</tr>\n",
       "</table><br/><br/>Notes:<br/>[1] R² is computed without centering (uncentered) since the model does not contain a constant.<br/>[2] Standard Errors assume that the covariance matrix of the errors is correctly specified."
      ],
      "text/plain": [
       "<class 'statsmodels.iolib.summary.Summary'>\n",
       "\"\"\"\n",
       "                                 OLS Regression Results                                \n",
       "=======================================================================================\n",
       "Dep. Variable:                  price   R-squared (uncentered):                   0.939\n",
       "Model:                            OLS   Adj. R-squared (uncentered):              0.938\n",
       "Method:                 Least Squares   F-statistic:                              620.2\n",
       "Date:                Sun, 03 Apr 2022   Prob (F-statistic):                    2.97e-96\n",
       "Time:                        10:50:52   Log-Likelihood:                         -1588.0\n",
       "No. Observations:                 164   AIC:                                      3184.\n",
       "Df Residuals:                     160   BIC:                                      3196.\n",
       "Df Model:                           4                                                  \n",
       "Covariance Type:            nonrobust                                                  \n",
       "===============================================================================\n",
       "                  coef    std err          t      P>|t|      [0.025      0.975]\n",
       "-------------------------------------------------------------------------------\n",
       "width        -213.8198     27.915     -7.660      0.000    -268.948    -158.691\n",
       "curb_weight     4.3060      1.173      3.671      0.000       1.990       6.622\n",
       "engine_size   106.6094     15.418      6.914      0.000      76.160     137.059\n",
       "hpower         28.8189     13.003      2.216      0.028       3.139      54.499\n",
       "==============================================================================\n",
       "Omnibus:                       14.766   Durbin-Watson:                   1.055\n",
       "Prob(Omnibus):                  0.001   Jarque-Bera (JB):               42.420\n",
       "Skew:                           0.188   Prob(JB):                     6.15e-10\n",
       "Kurtosis:                       5.463   Cond. No.                         242.\n",
       "==============================================================================\n",
       "\n",
       "Notes:\n",
       "[1] R² is computed without centering (uncentered) since the model does not contain a constant.\n",
       "[2] Standard Errors assume that the covariance matrix of the errors is correctly specified.\n",
       "\"\"\""
      ]
     },
     "execution_count": 636,
     "metadata": {},
     "output_type": "execute_result"
    }
   ],
   "source": [
    "model.summary()"
   ]
  },
  {
   "cell_type": "code",
   "execution_count": 637,
   "id": "8c2d806a",
   "metadata": {},
   "outputs": [
    {
     "name": "stdout",
     "output_type": "stream",
     "text": [
      "164     8271.011266\n",
      "165     9744.070133\n",
      "166     9894.780357\n",
      "167    15818.637480\n",
      "168    15801.413454\n",
      "169    15866.003550\n",
      "170    16417.172369\n",
      "171    16567.882593\n",
      "172    17691.750263\n",
      "173    11454.435471\n",
      "174    10290.688987\n",
      "175    11833.364034\n",
      "176    11833.364034\n",
      "177    12022.828315\n",
      "178    21209.119021\n",
      "179    21381.359277\n",
      "180    21989.039486\n",
      "181    21009.065475\n",
      "182     7570.374814\n",
      "183     9576.798109\n",
      "184     7583.292833\n",
      "185     9589.716128\n",
      "186     9860.994531\n",
      "187     8281.225081\n",
      "188    10400.927718\n",
      "189    10192.628540\n",
      "190    10093.294298\n",
      "191    14822.691103\n",
      "192     9101.438959\n",
      "193    10888.233193\n",
      "194    16487.675298\n",
      "195    17013.008079\n",
      "196    16586.713445\n",
      "197    17047.456130\n",
      "198    17270.976284\n",
      "199    17753.249000\n",
      "200    16296.421815\n",
      "201    18061.154371\n",
      "202    20542.660814\n",
      "203    17633.400218\n",
      "204    16770.082518\n",
      "dtype: float64\n"
     ]
    }
   ],
   "source": [
    "predicted_y=model.predict(test_x)\n",
    "print(predicted_y)"
   ]
  },
  {
   "cell_type": "markdown",
   "id": "d1114d39",
   "metadata": {},
   "source": [
    "<H6>\n",
    "Hypothesis test for the Y=Price and X=Discrete data\n",
    "<H6>"
   ]
  },
  {
   "cell_type": "markdown",
   "id": "73cda70e",
   "metadata": {},
   "source": [
    "<H6>\n",
    "Oneway anova test for price and symboling.\n",
    "<H6>"
   ]
  },
  {
   "cell_type": "code",
   "execution_count": 641,
   "id": "6d1fdccc",
   "metadata": {},
   "outputs": [
    {
     "data": {
      "text/plain": [
       "F_onewayResult(statistic=8.596939059375929, pvalue=2.0165673442839212e-06)"
      ]
     },
     "execution_count": 641,
     "metadata": {},
     "output_type": "execute_result"
    }
   ],
   "source": [
    "d1=data.price[data.sym==\"less than zero\"]\n",
    "d2=data.price[data.sym==\"zero\"]\n",
    "d3=data.price[data.sym==\"1\"]\n",
    "d4=data.price[data.sym==\"2\"]\n",
    "d5=data.price[data.sym==\"3\"]\n",
    "stats.f_oneway(d1,d2,d3,d4,d5)"
   ]
  },
  {
   "cell_type": "markdown",
   "id": "c699e03e",
   "metadata": {},
   "source": [
    "<H6>\n",
    "Oneway anova test for price and make.\n",
    "<H6>"
   ]
  },
  {
   "cell_type": "code",
   "execution_count": 640,
   "id": "0a490902",
   "metadata": {},
   "outputs": [
    {
     "data": {
      "text/plain": [
       "F_onewayResult(statistic=20.971027732702417, pvalue=6.871818139008785e-10)"
      ]
     },
     "execution_count": 640,
     "metadata": {},
     "output_type": "execute_result"
    }
   ],
   "source": [
    "d1=data.price[data.make==\"alfa-romero\"]\n",
    "d2=data.price[data.make==\"audi\"]\n",
    "d3=data.price[data.make==\"bmw\"]\n",
    "d4=data.price[data.make==\"chevrolet\"]\n",
    "d5=data.price[data.make==\"dodge\"]\n",
    "d6=data.price[data.make==\"honda\"]\n",
    "stats.f_oneway(d1,d2,d3,d4,d5,d6)"
   ]
  },
  {
   "cell_type": "markdown",
   "id": "95f462cf",
   "metadata": {},
   "source": [
    "<H6>\n",
    "Oneway anova test for price and fuel type.\n",
    "<H6>\n"
   ]
  },
  {
   "cell_type": "code",
   "execution_count": 643,
   "id": "f6a248de",
   "metadata": {},
   "outputs": [
    {
     "data": {
      "text/plain": [
       "F_onewayResult(statistic=2.4958589760769563, pvalue=0.11570297526298147)"
      ]
     },
     "execution_count": 643,
     "metadata": {},
     "output_type": "execute_result"
    }
   ],
   "source": [
    "d1=data.price[data.fuel_type==\"diesel\"]\n",
    "d2=data.price[data.fuel_type==\"gas\"]\n",
    "stats.f_oneway(d1,d2)"
   ]
  },
  {
   "cell_type": "markdown",
   "id": "27e73cbf",
   "metadata": {},
   "source": [
    "<H6>\n",
    "Oneway anova test for price and aspiration.\n",
    "<H6>"
   ]
  },
  {
   "cell_type": "code",
   "execution_count": 646,
   "id": "061755cd",
   "metadata": {},
   "outputs": [
    {
     "data": {
      "text/plain": [
       "F_onewayResult(statistic=6.587289855132936, pvalue=0.010991046478680874)"
      ]
     },
     "execution_count": 646,
     "metadata": {},
     "output_type": "execute_result"
    }
   ],
   "source": [
    "d1=data.price[data.asp==\"std\"]\n",
    "d2=data.price[data.asp==\"turbo\"]\n",
    "stats.f_oneway(d1,d2)"
   ]
  },
  {
   "cell_type": "markdown",
   "id": "11ca782a",
   "metadata": {},
   "source": [
    "<H6>\n",
    "Oneway anova test for price and number of doors.\n",
    "<H6>"
   ]
  },
  {
   "cell_type": "code",
   "execution_count": 647,
   "id": "595b9cba",
   "metadata": {},
   "outputs": [
    {
     "data": {
      "text/plain": [
       "F_onewayResult(statistic=0.3577851657233343, pvalue=0.5504056367589552)"
      ]
     },
     "execution_count": 647,
     "metadata": {},
     "output_type": "execute_result"
    }
   ],
   "source": [
    "d1=data.price[data.no_door==\"four\"]\n",
    "d2=data.price[data.no_door==\"two\"]\n",
    "stats.f_oneway(d1,d2)"
   ]
  },
  {
   "cell_type": "markdown",
   "id": "59c839ac",
   "metadata": {},
   "source": [
    "<H6>\n",
    "Oneway anova test for price and body style.\n",
    "<H6>"
   ]
  },
  {
   "cell_type": "code",
   "execution_count": 649,
   "id": "adf9ae90",
   "metadata": {},
   "outputs": [
    {
     "data": {
      "text/plain": [
       "F_onewayResult(statistic=9.183927252583397, pvalue=7.844575720804091e-07)"
      ]
     },
     "execution_count": 649,
     "metadata": {},
     "output_type": "execute_result"
    }
   ],
   "source": [
    "d1=data.price[data.body_style==\"hardtop\"]\n",
    "d2=data.price[data.body_style==\"wagon\"]\n",
    "d3=data.price[data.body_style==\"sedan\"]\n",
    "d4=data.price[data.body_style==\"hatchback\"]\n",
    "d5=data.price[data.body_style==\"convertible\"]\n",
    "stats.f_oneway(d1,d2,d3,d4,d5)\n",
    "\n",
    "              "
   ]
  },
  {
   "cell_type": "markdown",
   "id": "2b2039e8",
   "metadata": {},
   "source": [
    "<H6>\n",
    "Oneway anova test for price and drive wheels.\n",
    "<H6>"
   ]
  },
  {
   "cell_type": "code",
   "execution_count": 650,
   "id": "3b2a2346",
   "metadata": {},
   "outputs": [
    {
     "name": "stderr",
     "output_type": "stream",
     "text": [
      "F:\\Anaconda\\lib\\site-packages\\scipy\\stats\\stats.py:3621: F_onewayBadInputSizesWarning: at least one input has length 0\n",
      "  warnings.warn(F_onewayBadInputSizesWarning('at least one input '\n"
     ]
    },
    {
     "data": {
      "text/plain": [
       "F_onewayResult(statistic=nan, pvalue=nan)"
      ]
     },
     "execution_count": 650,
     "metadata": {},
     "output_type": "execute_result"
    }
   ],
   "source": [
    "d1=data.price[data.d_wheels==\"4wd\"]\n",
    "d2=data.price[data.d_wheels==\"fwd\"]\n",
    "d3=data.price[data.d_wheels==\"rwd\"]\n",
    "stats.f_oneway(d1,d2,d3)"
   ]
  },
  {
   "cell_type": "markdown",
   "id": "843b6764",
   "metadata": {},
   "source": [
    "<H6>\n",
    "Oneway anova test for price and engine location.\n",
    "<H6>"
   ]
  },
  {
   "cell_type": "code",
   "execution_count": 651,
   "id": "913b99b8",
   "metadata": {},
   "outputs": [
    {
     "data": {
      "text/plain": [
       "F_onewayResult(statistic=24.979629190458926, pvalue=1.2486063656753427e-06)"
      ]
     },
     "execution_count": 651,
     "metadata": {},
     "output_type": "execute_result"
    }
   ],
   "source": [
    "d1=data.price[data.engine_loc==\"front\"]\n",
    "d2=data.price[data.engine_loc==\"rear\"]\n",
    "stats.f_oneway(d1,d2)"
   ]
  },
  {
   "cell_type": "markdown",
   "id": "40154257",
   "metadata": {},
   "source": [
    "<H6>\n",
    "Oneway anova test for price and engine type.\n",
    "<H6>"
   ]
  },
  {
   "cell_type": "code",
   "execution_count": 653,
   "id": "154c0a03",
   "metadata": {},
   "outputs": [
    {
     "data": {
      "text/plain": [
       "F_onewayResult(statistic=8.298116388300434, pvalue=5.008077704793496e-08)"
      ]
     },
     "execution_count": 653,
     "metadata": {},
     "output_type": "execute_result"
    }
   ],
   "source": [
    "d1=data.price[data.engine_type==\"dohc\"]\n",
    "d2=data.price[data.engine_type==\"dohcv\"]\n",
    "d3=data.price[data.engine_type==\"l\"]\n",
    "d4=data.price[data.engine_type==\"ohc\"]\n",
    "d5=data.price[data.engine_type==\"ohcf\"]\n",
    "d6=data.price[data.engine_type==\"ohcv\"]\n",
    "d7=data.price[data.engine_type==\"rotor\"]\n",
    "stats.f_oneway(d1,d2,d3,d4,d5,d6,d7)"
   ]
  },
  {
   "cell_type": "markdown",
   "id": "1d365b10",
   "metadata": {},
   "source": [
    "<H6>\n",
    "Oneway anova test for price and number of cylinders.\n",
    "<H6>"
   ]
  },
  {
   "cell_type": "code",
   "execution_count": 654,
   "id": "2cb2297a",
   "metadata": {},
   "outputs": [
    {
     "data": {
      "text/plain": [
       "F_onewayResult(statistic=nan, pvalue=nan)"
      ]
     },
     "execution_count": 654,
     "metadata": {},
     "output_type": "execute_result"
    }
   ],
   "source": [
    "d1=data.price[data.no_cyl==\"eight\"]\n",
    "d2=data.price[data.no_cyl==\"five\"]\n",
    "d3=data.price[data.no_cyl==\"four\"]\n",
    "d4=data.price[data.no_cyl==\"six\"]\n",
    "d5=data.price[data.no_cyl==\"three\"]\n",
    "d6=data.price[data.no_cyl==\"twelve\"]\n",
    "d7=data.price[data.no_cyl==\"two\"]\n",
    "\n",
    "stats.f_oneway(d1,d2,d3,d4,d5,d6,d7)"
   ]
  },
  {
   "cell_type": "markdown",
   "id": "ac00f315",
   "metadata": {},
   "source": [
    "<H6>\n",
    "Oneway anova test for price and fuel system.\n",
    "<H6>"
   ]
  },
  {
   "cell_type": "code",
   "execution_count": 655,
   "id": "b4203e22",
   "metadata": {},
   "outputs": [
    {
     "data": {
      "text/plain": [
       "F_onewayResult(statistic=14.797402090228692, pvalue=1.8657347748569357e-15)"
      ]
     },
     "execution_count": 655,
     "metadata": {},
     "output_type": "execute_result"
    }
   ],
   "source": [
    "d1=data.price[data.fuel_system==\"1bbl\"]\n",
    "d2=data.price[data.fuel_system==\"2bbl\"]\n",
    "d3=data.price[data.fuel_system==\"4bbl\"]\n",
    "d4=data.price[data.fuel_system==\"idi\"]\n",
    "d5=data.price[data.fuel_system==\"mfi\"]\n",
    "d6=data.price[data.fuel_system==\"mpfi\"]\n",
    "d7=data.price[data.fuel_system==\"spdi\"]\n",
    "d8=data.price[data.fuel_system==\"spfi\"]\n",
    "stats.f_oneway(d1,d2,d3,d4,d5,d6,d7,d8)"
   ]
  },
  {
   "cell_type": "code",
   "execution_count": 656,
   "id": "4dd8593a",
   "metadata": {},
   "outputs": [
    {
     "data": {
      "text/plain": [
       "width         -213.819847\n",
       "curb_weight      4.306006\n",
       "engine_size    106.609414\n",
       "hpower          28.818868\n",
       "dtype: float64"
      ]
     },
     "execution_count": 656,
     "metadata": {},
     "output_type": "execute_result"
    }
   ],
   "source": [
    "model.params"
   ]
  },
  {
   "cell_type": "code",
   "execution_count": 657,
   "id": "0e99e12a",
   "metadata": {},
   "outputs": [],
   "source": [
    "predicted_values=model.predict(test_x)"
   ]
  },
  {
   "cell_type": "code",
   "execution_count": 662,
   "id": "ca2224d8",
   "metadata": {},
   "outputs": [
    {
     "data": {
      "text/plain": [
       "<matplotlib.collections.PathCollection at 0x11cd26d90>"
      ]
     },
     "execution_count": 662,
     "metadata": {},
     "output_type": "execute_result"
    },
    {
     "data": {
      "image/png": "[encoded data removed]",
      "text/plain": [
       "<Figure size 432x288 with 1 Axes>"
      ]
     },
     "metadata": {
      "needs_background": "light"
     },
     "output_type": "display_data"
    }
   ],
   "source": [
    "plt.scatter(x=test_x,y=train_y,color='red')"
   ]
  },
  {
   "cell_type": "code",
   "execution_count": 666,
   "id": "7884ded9",
   "metadata": {},
   "outputs": [
    {
     "data": {
      "text/plain": [
       "<AxesSubplot:xlabel='price'>"
      ]
     },
     "execution_count": 666,
     "metadata": {},
     "output_type": "execute_result"
    },
    {
     "data": {
      "image/png": "[encoded data removed]",
      "text/plain": [
       "<Figure size 432x288 with 1 Axes>"
      ]
     },
     "metadata": {
      "needs_background": "light"
     },
     "output_type": "display_data"
    }
   ],
   "source": [
    "sns.lineplot(x=test_y,y=predicted_values,color='green')"
   ]
  },
  {
   "cell_type": "code",
   "execution_count": 670,
   "id": "71f7817b",
   "metadata": {},
   "outputs": [
    {
     "data": {
      "text/plain": [
       "<matplotlib.collections.PathCollection at 0x11e097340>"
      ]
     },
     "execution_count": 670,
     "metadata": {},
     "output_type": "execute_result"
    },
    {
     "data": {
      "image/png": "[encoded data removed]",
      "text/plain": [
       "<Figure size 432x288 with 1 Axes>"
      ]
     },
     "metadata": {
      "needs_background": "light"
     },
     "output_type": "display_data"
    }
   ],
   "source": [
    "plt.scatter(x=test_x,y=train_y,color='blue')"
   ]
  },
  {
   "cell_type": "code",
   "execution_count": null,
   "id": "88ec758c",
   "metadata": {},
   "outputs": [],
   "source": []
  },
  {
   "cell_type": "code",
   "execution_count": null,
   "id": "e8b96f60",
   "metadata": {},
   "outputs": [],
   "source": []
  },
  {
   "cell_type": "code",
   "execution_count": null,
   "id": "8824085d",
   "metadata": {},
   "outputs": [],
   "source": []
  },
  {
   "cell_type": "code",
   "execution_count": null,
   "id": "016fadcd",
   "metadata": {},
   "outputs": [],
   "source": []
  },
  {
   "cell_type": "code",
   "execution_count": null,
   "id": "7373a362",
   "metadata": {},
   "outputs": [],
   "source": []
  },
  {
   "cell_type": "code",
   "execution_count": null,
   "id": "f033f767",
   "metadata": {},
   "outputs": [],
   "source": []
  },
  {
   "cell_type": "code",
   "execution_count": null,
   "id": "e040b4d5",
   "metadata": {},
   "outputs": [],
   "source": []
  },
  {
   "cell_type": "code",
   "execution_count": null,
   "id": "125fb810",
   "metadata": {},
   "outputs": [],
   "source": []
  },
  {
   "cell_type": "code",
   "execution_count": null,
   "id": "88df8d88",
   "metadata": {},
   "outputs": [],
   "source": []
  },
  {
   "cell_type": "code",
   "execution_count": null,
   "id": "c99388d8",
   "metadata": {},
   "outputs": [],
   "source": []
  },
  {
   "cell_type": "code",
   "execution_count": null,
   "id": "29a824d2",
   "metadata": {},
   "outputs": [],
   "source": []
  },
  {
   "cell_type": "code",
   "execution_count": null,
   "id": "32ffdb90",
   "metadata": {},
   "outputs": [],
   "source": []
  },
  {
   "cell_type": "code",
   "execution_count": null,
   "id": "dd019243",
   "metadata": {},
   "outputs": [],
   "source": []
  }
 ],
 "metadata": {
  "kernelspec": {
   "display_name": "Python 3 (ipykernel)",
   "language": "python",
   "name": "python3"
  },
  "language_info": {
   "codemirror_mode": {
    "name": "ipython",
    "version": 3
   },
   "file_extension": ".py",
   "mimetype": "text/x-python",
   "name": "python",
   "nbconvert_exporter": "python",
   "pygments_lexer": "ipython3",
   "version": "3.9.7"
  }
 },
 "nbformat": 4,
 "nbformat_minor": 5
}
